{
 "cells": [
  {
   "cell_type": "markdown",
   "metadata": {},
   "source": [
    "## Creating an Initial Population\n",
    "\n",
    "Create an initial population, by first defining the population size and then selecting from the list of recipes.\n",
    "\n",
    "\n"
   ]
  },
  {
   "cell_type": "code",
   "execution_count": 836,
   "metadata": {},
   "outputs": [],
   "source": [
    "import json\n",
    "import pprint\n",
    "import random\n",
    "import math\n",
    "from collections import defaultdict\n",
    "import copy\n",
    "import pandas as pd\n",
    "import statistics as stat\n",
    "from sugarcube import Mass, Volume, Liquids, Butter, Sugar, Flour, Pastes, Solids, Powder, Bindings, Yeast, Salt, Icecream, Jam, Biscuits, Nori, Beans"
   ]
  },
  {
   "cell_type": "code",
   "execution_count": 837,
   "metadata": {},
   "outputs": [],
   "source": [
    "# categories of ingredients as defined in preprocessing \n",
    "\n",
    "categories = {\n",
    "    \"Liquids\": [\"milk\", \"almond milk\", \"coconut\", \"water\"],\n",
    "    \"Other_liquids\": [\"oil\", \"juice\", \"extract\", \"essence\"],\n",
    "    \"Butter\": [\"butter\", \"nutella\", \"peanut butter\", \"spread\"],\n",
    "    \"Sugar\": [\"sugar\"],\n",
    "    \"Flour\": [\"flour\", \"starch\", \"cornstarch\", \"mochiko\"],\n",
    "    \"Pastes\": [\"paste\", \"cream\"],\n",
    "    \"Solids\": [\"fruit\", \"nuts\", \"chocolate\", \"raspberries\", \"strawberries\", \"banana\", \"mango\", \"potato\", \"corn\"],\n",
    "    \"Powder\": [\"matcha\", \"powder\", \"spice\"],\n",
    "    \"Bindings\": [\"egg\", \"mashed\", \"applesauce\", \"puree\"],\n",
    "    \"Yeast\": [\"yeast\"],\n",
    "    \"Salt\": [\"salt\"],\n",
    "    \"Icecream\": [\"ice\"],\n",
    "    \"Jam\": [\"jam\", \"pudding\"],\n",
    "    \"Biscuits\": [\"biscuits\"],\n",
    "    \"Nori\": [\"nori\"],\n",
    "    \"Beans\": [\"beans\"]\n",
    "}"
   ]
  },
  {
   "cell_type": "code",
   "execution_count": 838,
   "metadata": {},
   "outputs": [],
   "source": [
    "# random ingredient to add to the inspiring set as mutations\n",
    "\n",
    "other_ingredients = [\n",
    "    {'amount': 30.0, 'ingredient': 'pickle', 'rating': 4.3, 'unit': 'g', 'category': 'Solids'},\n",
    "    {'amount': 100.0, 'ingredient': 'dutch cheese', 'rating': 3.7, 'unit': 'g', 'category': 'Solids'},\n",
    "    {'amount': 100.0, 'ingredient': 'cooked red beet', 'rating': 3.2, 'unit': 'g', 'category': 'Solids'},\n",
    "    {'amount': 150.0, 'ingredient': 'broccoli', 'rating': 2.8, 'unit': 'g', 'category': 'Solids'},\n",
    "    {'amount': 150.0, 'ingredient': 'carrot', 'rating': 3.0, 'unit': 'g', 'category': 'Solids'},\n",
    "    {'amount': 200.0, 'ingredient': 'feta', 'rating': 4.0, 'unit': 'g', 'category': 'Solids'},\n",
    "    {'amount': 30.0, 'ingredient': 'amsterdam onions', 'rating': 2.7, 'unit': 'g', 'category': 'Solids'},\n",
    "    {'amount': 6.0, 'ingredient': 'pancake syrup', 'rating': 4.2, 'unit': 'g', 'category': 'Pastes'},\n",
    "    {'amount': 70.0, 'ingredient': 'coconut snippers', 'rating': 4.2, 'unit': 'g', 'category': 'Biscuits'},\n",
    "    {'amount': 15.0, 'ingredient': 'cinnamon', 'rating': 5.0, 'unit': 'g', 'category': 'Powder'},\n",
    "    {'amount': 20.0, 'ingredient': 'lime juice', 'rating': 3.7, 'unit': 'ml', 'category': 'Other_liquids'},\n",
    "    {'amount': 150.0, 'ingredient': 'lychee', 'rating': 4.0, 'unit': 'g', 'category': 'Solids'},\n",
    "    {'amount': 20.0, 'ingredient': 'mocha/coffee', 'rating': 5.0, 'unit': 'g', 'category': 'Powder'},\n",
    "    {'amount': 200.0, 'ingredient': 'raspberry', 'rating': 4.5, 'unit': 'g', 'category': 'Solids'},\n",
    "    {'amount': 180.0, 'ingredient': 'pineapple', 'rating': 4.2, 'unit': 'g', 'category': 'Solids'},\n",
    "    {'amount': 180.0, 'ingredient': 'watermelon', 'rating': 3.7, 'unit': 'g', 'category': 'Solids'},\n",
    "    {'amount': 40.0, 'ingredient': 'caramalised red onion', 'rating': 2.0, 'unit': 'g', 'category': 'Solids'},\n",
    "    {'amount': 150.0, 'ingredient': 'eggplant', 'rating': 3.3, 'unit': 'g', 'category': 'Solids'},\n",
    "    {'amount': 2.0, 'ingredient': 'fresh ginger', 'rating': 4.7, 'unit': 'g', 'category': 'Solids'},\n",
    "    {'amount': 250.0, 'ingredient': 'avocado', 'rating': 3.5, 'unit': 'g', 'category': 'Solids'},\n",
    "    {'amount': 15.0, 'ingredient': 'honey', 'rating': 4.7, 'unit': 'ml', 'category': 'Pastes'},\n",
    "    {'amount': 50.0, 'ingredient': 'poppy seeds', 'rating': 4.3, 'unit': 'g', 'category': 'Nori'},\n",
    "    {'amount': 50.0, 'ingredient': 'sweet chili sauce', 'rating': 3.3, 'unit': 'ml', 'category': 'Other_liquids'},\n",
    "    {'amount': 100.0, 'ingredient': 'olives', 'rating': 4.0, 'unit': 'g', 'category': 'Solids'},\n",
    "    {'amount': 200.0, 'ingredient': 'chickpeas', 'rating': 3.0, 'unit': 'g', 'category': 'Solids'},\n",
    "    {'amount': 40.0, 'ingredient': 'soy sauce', 'rating': 3.7, 'unit': 'ml', 'category': 'Other_liquids'},\n",
    "    {'amount': 2.0, 'ingredient': 'basil', 'rating': 4.0, 'unit': 'g', 'category': 'Nori'},\n",
    "    {'amount': 5.0, 'ingredient': 'miso', 'rating': 4.2, 'unit': 'g', 'category': 'Pastes'},\n",
    "    {'amount': 10.0, 'ingredient': 'teriyaki', 'rating': 3.8, 'unit': 'ml', 'category': 'Other_liquids'},\n",
    "]\n"
   ]
  },
  {
   "cell_type": "code",
   "execution_count": 839,
   "metadata": {},
   "outputs": [],
   "source": [
    "# open the saved preprocessed dataset \n",
    "with open('data/mochi.json', 'r') as file:\n",
    "    data = json.load(file)\n",
    "recipes = data['recipes']"
   ]
  },
  {
   "cell_type": "code",
   "execution_count": 840,
   "metadata": {},
   "outputs": [
    {
     "name": "stdout",
     "output_type": "stream",
     "text": [
      "133.33 water\n",
      "25.0 water\n",
      "25.0 water\n",
      "240.0 almond milk\n",
      "240.0 regular milk\n",
      "240.0 water\n",
      "300.0 almond milk or water\n",
      "200.0 water\n",
      "320.0 unsweetened almond milk\n",
      "240.0 almond milk\n",
      "240.0 regular milk\n",
      "240.0 water\n",
      "240.0 water\n",
      "150.0 coconut milk\n",
      "200.0 milk \n",
      "300.0 coconut milk\n",
      "128.57 water\n",
      "450.0 milk of choice\n",
      "166.67 milk\n",
      "75.0 milk\n",
      "300.0 coconut milk\n",
      "158.33 milk\n",
      "90.0 water\n",
      "200.0 milk of choice\n",
      "66.67 sweetened condensed milk of choice\n",
      "50.0 milk of choice\n",
      "300.0 coconut milk\n",
      "200.0 milk\n",
      "150.0 coconut milk\n",
      "450.0 milk\n",
      "175.0 water\n",
      "12.5 milk\n",
      "300.0 coconut milk\n",
      "63.64 milk\n",
      "166.67 milk\n",
      "90.0 water\n",
      "166.67 milk\n",
      "214.29 milk\n",
      "166.67 milk\n",
      "150.0 milk\n"
     ]
    }
   ],
   "source": [
    "# make a list of all the available ingredients to add as mutation\n",
    "\n",
    "all_ingredients = []\n",
    "for i, recipe in enumerate(recipes):\n",
    "  all_ingredients.extend(recipe['ingredients'])\n",
    "# pprint.PrettyPrinter(width=150).pprint(all_ingredients)\n",
    "\n",
    "for ingredient in all_ingredients:\n",
    "  amount = ingredient['amount']\n",
    "  if ingredient['category'] == \"Liquids\":\n",
    "    print(amount, ingredient['ingredient'])"
   ]
  },
  {
   "cell_type": "markdown",
   "metadata": {},
   "source": [
    "## Evaluating Recipes (Fitness Function)\n",
    "\n",
    "The following function defines how individuals are evaluated:\n",
    "We chose to evaluate the recipe by calculating the mean of the rating of its ingredients. So, we sum up the rating for each ingredient, and then divide by the total amount of ingredients.\n",
    "Additionally, we evaluate with some constraints: \n",
    "- length of ingredients list of the recipe is between 5-8\n",
    "- some categories of ingredients have constraints on their presence \n",
    "- forbidden ingredients, such as gluten and nuts are penalized \n",
    "- if the ratio of flour/liquid-binding is not optimal it will also be penalized"
   ]
  },
  {
   "cell_type": "code",
   "execution_count": 841,
   "metadata": {},
   "outputs": [],
   "source": [
    "# lists of constraints on the fitness function\n",
    "presence_egg = [\"egg\"]\n",
    "presence_gluten = [\"bread flour\", \"all purpose flour\", \"all-purpose flour\", \"nutella\", \"Biscoff\", \"biscuits\"]\n",
    "presence_nuts = [\"pistachio\", \"walnuts\", \"peanut\", \"hazelnut\"]\n",
    "presence_bakingpwd = ['baking powder']\n",
    "\n",
    "forbidden = presence_egg + presence_gluten + presence_nuts + presence_bakingpwd\n",
    "# presence_flour = [\"cornstarch\", \"corn starch\", \"potato starch\", \"tapioca starch\", \"glutinous rice flour\", \"black sesame flour\", \"mochiko flour\", \"sweet rice flour\", \"glutinous rice flour (mochiko flour)\"]"
   ]
  },
  {
   "cell_type": "code",
   "execution_count": 842,
   "metadata": {},
   "outputs": [],
   "source": [
    "\n",
    "def compute_variables(ingredients):\n",
    "\n",
    "    mean_rating = []\n",
    "    forbid = 1\n",
    "    flour_present = 0\n",
    "    liquid = 0\n",
    "    dough = 0\n",
    "    butter = 0\n",
    "\n",
    "    for ingredient in ingredients:\n",
    "\n",
    "        # check current rating \n",
    "        mean_rating.append(ingredient['rating'])\n",
    "\n",
    "        # check if forbidden ingredient is in there, and so make forbid 0\n",
    "        name = ingredient['ingredient']\n",
    "        check = list(filter(lambda x: x in name, forbidden))\n",
    "        if check:\n",
    "            forbid = 0\n",
    "\n",
    "        # flower presence \n",
    "        if ingredient['category'] == \"Flour\":\n",
    "            flour_present += 1\n",
    "\n",
    "        # categorize ingredients\n",
    "        if ingredient['category'] == \"Liquid\":\n",
    "            liquid += 1\n",
    "        elif ingredient['category'] in [\"Liquids\", \"Bindings\"]:\n",
    "            dough += 1\n",
    "        elif ingredient['category'] == \"Butter\":\n",
    "            butter += 1\n",
    "\n",
    "    # check if recipe has essential components, dough presence is either 0 or 1\n",
    "    dough_presence = 1 if flour_present == 1 and dough >= 1 else 0\n",
    "\n",
    "    # adjust ingredient constraint based on butter and liquid amounts\n",
    "    ingredient_constraint = 1.5 if butter > 1 or liquid > 2 or liquid < 1 else 0\n",
    "            \n",
    "    # compute average rating \n",
    "    average_rating = stat.mean(mean_rating)\n",
    "\n",
    "    return average_rating, forbid, dough_presence, ingredient_constraint\n",
    "\n",
    "def evaluate_recipes(recipes):\n",
    "    \"\"\"Evaluate the fitness of each recipe based on rating, amount of ingredients, and presence of ingredients.\"\"\"\n",
    "\n",
    "    target_rating_min = 4.7\n",
    "    target_rating_max = 5.0\n",
    "    for r in recipes: \n",
    "        rating, forbid, dough_presence, ingredient_constraint = compute_variables(r['ingredients'])\n",
    "        \n",
    "        length = len(r['ingredients'])\n",
    "        if length < 5:\n",
    "            forbid = 0 # no valid mochi, so forbid is 0\n",
    "            length_penalty = 0 # no length penalty needed\n",
    "        elif length > 8:\n",
    "             length_penalty = (length - 8) * 0.5 # small penalty when lenght is higher than 8\n",
    "        else:\n",
    "            length_penalty = 0  # No penalty within range\n",
    "\n",
    "        if rating < target_rating_min:\n",
    "            rating_penalty = (target_rating_min - rating) * 2  \n",
    "            scaled_rating = rating - rating_penalty # penalty if rating is below minimum rating\n",
    "        elif rating <= target_rating_max:\n",
    "            scaled_rating = random.uniform(target_rating_min, target_rating_max) # pick a random rating between 4.7 and 5 to equalize the odds of choosing them\n",
    "\n",
    "        # final fitness function to add to each recipe\n",
    "        r['fitness'] = max(0, scaled_rating - length_penalty - ingredient_constraint)*forbid*dough_presence\n",
    "        r['rating'] = rating\n",
    "\n"
   ]
  },
  {
   "cell_type": "markdown",
   "metadata": {},
   "source": [
    "Evaluate the initial population."
   ]
  },
  {
   "cell_type": "code",
   "execution_count": 843,
   "metadata": {},
   "outputs": [
    {
     "name": "stdout",
     "output_type": "stream",
     "text": [
      "[  {'fitness': 3.441231624885037, 'ingredients': [...], 'name': 'Ube Mochi', 'rating': 5.0},\n",
      "   {'fitness': 0.4999999999999991, 'ingredients': [...], 'name': 'Mango Mochi', 'rating': 3.8},\n",
      "   {'fitness': 0.0, 'ingredients': [...], 'name': 'Mochi Waffle Recipe', 'rating': 4.0},\n",
      "   {'fitness': 0.0, 'ingredients': [...], 'name': 'Raspberry Chocolate', 'rating': 5.0},\n",
      "   {'fitness': 0.0, 'ingredients': [...], 'name': 'Sweet Potato', 'rating': 5.0},\n",
      "   {'fitness': 0.0, 'ingredients': [...], 'name': 'Mochi Waffle Recipe', 'rating': 4.0},\n",
      "   {'fitness': 0, 'ingredients': [...], 'name': 'Potato Mochi', 'rating': 3.3},\n",
      "   {'fitness': 0.0, 'ingredients': [...], 'name': 'Green Tea / Matcha (with a Twist', 'rating': 5.0},\n",
      "   {'fitness': 0, 'ingredients': [...], 'name': 'Ube Butter Mochi', 'rating': 3.8},\n",
      "   {'fitness': 0, 'ingredients': [...], 'name': 'Ube Mochi Muffins', 'rating': 3.5},\n",
      "   {'fitness': 0.0, 'ingredients': [...], 'name': 'Banana Chocolate', 'rating': 3.67},\n",
      "   {'fitness': 0.0, 'ingredients': [...], 'name': 'Mochi Bread', 'rating': 5.0},\n",
      "   {'fitness': 0.0, 'ingredients': [...], 'name': 'Pumpkin', 'rating': 4.8},\n",
      "   {'fitness': 0.0, 'ingredients': [...], 'name': 'Fresh Mango', 'rating': 5.0},\n",
      "   {'fitness': 0, 'ingredients': [...], 'name': 'Chocolate Mochi Cupcakes', 'rating': 4.3},\n",
      "   {'fitness': 0.0, 'ingredients': [...], 'name': 'Fresh Mango', 'rating': 5.0},\n",
      "   {'fitness': 0.0, 'ingredients': [...], 'name': 'Sweet Potato', 'rating': 5.0},\n",
      "   {'fitness': 0.0, 'ingredients': [...], 'name': 'Chocolate Mochi Donuts', 'rating': 4.3},\n",
      "   {'fitness': 0.0, 'ingredients': [...], 'name': 'Nutella Mochi', 'rating': 5.0},\n",
      "   {'fitness': 0, 'ingredients': [...], 'name': 'Matcha Baked Mochi Donuts', 'rating': 3.3}]\n"
     ]
    }
   ],
   "source": [
    "population_size = 20\n",
    "population = random.choices(recipes, k=population_size)\n",
    "\n",
    "evaluate_recipes(population)\n",
    "population = sorted(population, reverse = True, key = lambda r: r['fitness'])\n",
    "pprint.PrettyPrinter(indent=3, depth=2, width=120).pprint(population)"
   ]
  },
  {
   "cell_type": "markdown",
   "metadata": {},
   "source": [
    "## Selecting recipes\n",
    "\n",
    "Select recipes based on roulette wheel"
   ]
  },
  {
   "cell_type": "code",
   "execution_count": 844,
   "metadata": {},
   "outputs": [],
   "source": [
    "def select_recipe(recipes_copy):\n",
    "  sum_fitness = sum([recipe['fitness'] for recipe in recipes_copy])\n",
    "  f = random.uniform(0, sum_fitness)\n",
    "  for recipe in recipes_copy:\n",
    "    if f < recipe['fitness']:\n",
    "      return recipe\n",
    "    f -= recipe['fitness']\n",
    "  return recipes_copy[-1]"
   ]
  },
  {
   "cell_type": "markdown",
   "metadata": {},
   "source": [
    "## Crossover and mutations\n",
    "\n",
    "crossover at random point in each recipe\n",
    "\n",
    "Mutations include: \n",
    "- increasing/decreasing the amount of an ingredient\n",
    "- substituting with our random ingredient list\n",
    "- adding or removing ingredients from original set. \n",
    "\n",
    "Normalize, get average rating with new ingredient composition and scale amounts "
   ]
  },
  {
   "cell_type": "code",
   "execution_count": 845,
   "metadata": {},
   "outputs": [],
   "source": [
    "recipe_number = 1\n",
    "\n",
    "def crossover_recipes(r1, r2):\n",
    "  global recipe_number\n",
    "  p1 = random.randint(0, len(r1['ingredients']))\n",
    "  p2 = random.randint(0, len(r2['ingredients'])-1)\n",
    "  r1a = r1['ingredients'][0:p1]\n",
    "  r2b = r2['ingredients'][p2:]\n",
    "  r = dict()\n",
    "  r['name'] = \"recipe {}\".format(recipe_number)\n",
    "  recipe_number += 1\n",
    "  r['ingredients'] = r1a + r2b\n",
    "  return r\n",
    "\n",
    "def mutate_recipe(r):\n",
    "  m = random.randint(0, 3)\n",
    "  if m == 0:\n",
    "    i = random.randint(0, len(r['ingredients'])-1)\n",
    "    r['ingredients'][i] = r['ingredients'][i].copy()\n",
    "    r['ingredients'][i]['amount'] += math.floor(r['ingredients'][i]['amount'] * 0.1)\n",
    "    r['ingredients'][i]['amount'] = max(1, r['ingredients'][i]['amount']) # change amount \n",
    "  elif m == 1:\n",
    "    j = random.randint(0, len(r['ingredients'])-1)\n",
    "    r['ingredients'][j] = r['ingredients'][j].copy()\n",
    "    r['ingredients'][j] = random.choice(other_ingredients) # substitute with our own ingredient list\n",
    "\n",
    "  elif m == 2:\n",
    "    r['ingredients'].append(random.choice(all_ingredients).copy()) # add\n",
    "  else:\n",
    "    if len(r['ingredients']) > 1:\n",
    "      r['ingredients'].remove(random.choice(r['ingredients'])) # remove \n",
    "\n",
    "def normalise_recipe(r):\n",
    "\n",
    "  # average duplicates to get unique list of ingredients\n",
    "  unique_ingredients = dict()\n",
    "  for i in r['ingredients']:\n",
    "    if i['ingredient'] in unique_ingredients:\n",
    "      n = unique_ingredients[i['ingredient']]\n",
    "      n['rating'] = (n['rating'] + i['rating']) / 2 # get average rating\n",
    "      n['amount'] = (n['amount'] + i['amount']) / 2 # get average amount\n",
    "\n",
    "    else:\n",
    "      unique_ingredients[i['ingredient']] = i.copy()\n",
    "\n",
    "  r['ingredients'] = list(unique_ingredients.values())\n",
    "\n",
    "  sum_amounts = sum([i['amount'] for i in r['ingredients']])\n",
    "  scale = 500 / sum_amounts\n",
    "  for i in r['ingredients']:\n",
    "    i['amount'] = max(1, math.floor(i['amount'] * scale)) # scale amounts"
   ]
  },
  {
   "cell_type": "markdown",
   "metadata": {},
   "source": [
    "## Generating Recipes\n",
    "\n",
    "We use the above functions to generate recipes."
   ]
  },
  {
   "cell_type": "code",
   "execution_count": 846,
   "metadata": {},
   "outputs": [],
   "source": [
    "def generate_recipes(size, population):\n",
    "  R = []\n",
    "  while len(R) < size:\n",
    "    r1 = select_recipe(population)\n",
    "    r2 = select_recipe(population)\n",
    "    r = crossover_recipes(r1, r2)\n",
    "    mutate_recipe(r)\n",
    "    normalise_recipe(r)\n",
    "    R.append(r)\n",
    "  evaluate_recipes(R)\n",
    "  return R"
   ]
  },
  {
   "cell_type": "markdown",
   "metadata": {},
   "source": [
    "## Selecting a New Population\n",
    "\n",
    "The final function is one that selects a new population given the previous population and the generated recipes."
   ]
  },
  {
   "cell_type": "code",
   "execution_count": 847,
   "metadata": {},
   "outputs": [],
   "source": [
    "def select_population(P, R):\n",
    "  R = sorted(R, reverse = True, key = lambda r: r['fitness'])\n",
    "  P = P[0:len(P)//2] + R[0:len(R)//2]\n",
    "  P = sorted(P, reverse = True, key = lambda r: r['fitness'])\n",
    "  return P"
   ]
  },
  {
   "cell_type": "code",
   "execution_count": 848,
   "metadata": {},
   "outputs": [],
   "source": [
    "population = random.choices(recipes, k=population_size)\n",
    "evaluate_recipes(population)\n",
    "population = sorted(population, reverse = True, key = lambda r: r['fitness'])\n",
    "\n",
    "max_fitnesses = []\n",
    "min_fitnesses = []\n",
    "for i in range(500):\n",
    "  R = generate_recipes(population_size, population)\n",
    "  population = select_population(population, R)\n",
    "  max_fitnesses.append(population[0]['fitness'])\n",
    "  min_fitnesses.append(population[-1]['fitness'])"
   ]
  },
  {
   "cell_type": "code",
   "execution_count": 849,
   "metadata": {},
   "outputs": [
    {
     "data": {
      "image/png": "[encoded data removed]",
      "text/plain": [
       "<Figure size 640x480 with 1 Axes>"
      ]
     },
     "metadata": {},
     "output_type": "display_data"
    }
   ],
   "source": [
    "import matplotlib.pyplot as plt\n",
    "\n",
    "x  = range(500)\n",
    "plt.plot(x, max_fitnesses, label=\"line L\")\n",
    "plt.fill_between(x, min_fitnesses, max_fitnesses, alpha=0.2)\n",
    "plt.plot()\n",
    "\n",
    "plt.xlabel(\"generation\")\n",
    "plt.ylabel(\"fitness\")\n",
    "plt.title(\"fitness over time\")\n",
    "plt.legend()\n",
    "plt.show()"
   ]
  },
  {
   "cell_type": "code",
   "execution_count": 850,
   "metadata": {},
   "outputs": [
    {
     "data": {
      "text/plain": [
       "8"
      ]
     },
     "execution_count": 850,
     "metadata": {},
     "output_type": "execute_result"
    }
   ],
   "source": [
    "len(population[0]['ingredients'])"
   ]
  },
  {
   "cell_type": "code",
   "execution_count": 851,
   "metadata": {},
   "outputs": [
    {
     "name": "stdout",
     "output_type": "stream",
     "text": [
      "{ 'fitness': 3.4998809405813764,\n",
      "  'ingredients': [ { 'amount': 125,\n",
      "                     'category': 'Flour',\n",
      "                     'ingredient': 'glutinous rice flour',\n",
      "                     'rating': 4.67788950920105,\n",
      "                     'unit': 'g'},\n",
      "                   { 'amount': 127,\n",
      "                     'category': 'Liquids',\n",
      "                     'ingredient': 'water',\n",
      "                     'rating': 3.83984375,\n",
      "                     'unit': 'ml'},\n",
      "                   { 'amount': 31,\n",
      "                     'category': 'Sugar',\n",
      "                     'ingredient': 'brown sugar',\n",
      "                     'rating': 5.0,\n",
      "                     'unit': 'g'},\n",
      "                   { 'amount': 20,\n",
      "                     'category': 'Butter',\n",
      "                     'ingredient': 'butter',\n",
      "                     'rating': 5.0,\n",
      "                     'unit': 'g'},\n",
      "                   { 'amount': 76,\n",
      "                     'category': 'Solids',\n",
      "                     'ingredient': 'ripened mango',\n",
      "                     'rating': 5.0,\n",
      "                     'unit': 'g'},\n",
      "                   { 'amount': 1,\n",
      "                     'category': 'Salt',\n",
      "                     'ingredient': 'salt',\n",
      "                     'rating': 5.0,\n",
      "                     'unit': 'g'},\n",
      "                   { 'amount': 27,\n",
      "                     'category': 'Powder',\n",
      "                     'ingredient': 'mocha/coffee',\n",
      "                     'rating': 5.0,\n",
      "                     'unit': 'g'},\n",
      "                   { 'amount': 90,\n",
      "                     'category': 'Pastes',\n",
      "                     'ingredient': 'sweet red bean paste',\n",
      "                     'rating': 5.0,\n",
      "                     'unit': 'g'}],\n",
      "  'name': 'recipe 9413',\n",
      "  'rating': 4.814716657400131}\n"
     ]
    }
   ],
   "source": [
    "# final recipe\n",
    "pprint.PrettyPrinter(indent=2, depth=4).pprint(population[0])"
   ]
  },
  {
   "cell_type": "markdown",
   "metadata": {},
   "source": [
    "# Make ingredient list and instructions\n",
    "\n",
    "This will write the final fittest recipe to a txt file"
   ]
  },
  {
   "cell_type": "code",
   "execution_count": 852,
   "metadata": {},
   "outputs": [],
   "source": [
    "recipe = population[0]\n",
    "ingredients_list = {}\n",
    "\n",
    "with open(f'output_recipe_{recipe['name']}.txt', 'a') as file: \n",
    "    file.write(recipe['name'] + '\\n')\n",
    "    file.write(\"Rating: \" + str(round(recipe['rating'], 2)) + '\\n\\n') # add rating\n",
    "    file.write(\"Ingredients\" + '\\n\\n')\n",
    "    file.write(\"- corn starch to dust surface \\n\")\n",
    "\n",
    "for ingredient in recipe['ingredients']:\n",
    "    name = ingredient['ingredient']\n",
    "    ingredients_list[name] = ingredient['category']\n",
    "    amount = ingredient['amount']\n",
    "    unit = ingredient['unit']\n",
    "\n",
    "\n",
    "    whole = f\"- {amount} {unit} {name}\" # each ingredient listed \n",
    "    with open(f'output_recipe_{recipe['name']}.txt', 'a') as file: \n",
    "        file.write(whole + '\\n')\n",
    "        \n",
    "with open(f'output_recipe_{recipe['name']}.txt', 'a') as file: \n",
    "    file.write('\\n' + \"Instructions\")"
   ]
  },
  {
   "cell_type": "code",
   "execution_count": 853,
   "metadata": {},
   "outputs": [],
   "source": [
    "# categorize ingredients for instructions format \n",
    "non_flour_ingredients = []\n",
    "flour_ingredient = \"\"\n",
    "bind_ingredient = \"\"\n",
    "solids = []\n",
    "for ingredient, category in ingredients_list.items():\n",
    "    if category == 'Flour':\n",
    "        flour_ingredient = ingredient\n",
    "    elif category == \"Liquids\" or category == \"Bindings\":\n",
    "        if \"extract\" not in ingredient:\n",
    "            bind_ingredient = ingredient\n",
    "    elif category == \"Solids\":\n",
    "        solids.append(ingredient)\n",
    "    else: \n",
    "        non_flour_ingredients.append(ingredient)\n",
    "\n",
    "# add steps for uncooked solid ingredients\n",
    "steps = []\n",
    "for ingredient in solids:\n",
    "    step = f\"If the {ingredient} requires cooking, cook it first, then blend or mash into a puree\"\n",
    "    if step is not None:\n",
    "        steps.append(step)\n",
    "\n",
    "formatted_steps = \"\\n\".join(f\"{step}\" for step in steps)\n",
    "\n",
    "# Recept template\n",
    "recipe_template = f\"\"\"\n",
    "1. Prepare the ingredients (if necessary):\n",
    "{formatted_steps}\n",
    "\n",
    "2. Prepare the mochi dough:\n",
    "\n",
    "In a microwave-safe bowl, mix the {flour_ingredient} with the {bind_ingredient} and ingredients of your choice from the ingredients list.\n",
    "Microwave the combined dough for 90 to 120 seconds.\n",
    "Stir the mochi mixture so the cooked and uncooked parts are evenly mixed.\n",
    "Microwave again for 1 minute until the dough is slightly translucent and glossy.\n",
    "\n",
    "3. Prepare the mochi filling:\n",
    "\n",
    "In a small bowl, mix the remaining ingredients.\n",
    "Portion out 8 scoops of filling, using a tablespoon or a cookie scoop, and set aside. If the filling is containing ice cream, set aside in the fridge. \n",
    "\n",
    "Making the mochi:\n",
    "\n",
    "Drop the hot mochi dough onto a surface floured with corn starch.\n",
    "Use a rolling pin or your hands to flatten it into a sheet.\n",
    "Cut the dough into 8 pieces using a dough cutter or scissors.\n",
    "Place a scoop of prepared filling on each piece and wrap the mochi dough around the filling.\n",
    "Enjoy!\n",
    "\"\"\" \n",
    "\n",
    "# Print generated recipe\n",
    "with open(f'output_recipe_{recipe['name']}.txt', 'a') as file: \n",
    "    file.write('\\n' + recipe_template)"
   ]
  }
 ],
 "metadata": {
  "kernelspec": {
   "display_name": "CompCreativity",
   "language": "python",
   "name": "python3"
  },
  "language_info": {
   "codemirror_mode": {
    "name": "ipython",
    "version": 3
   },
   "file_extension": ".py",
   "mimetype": "text/x-python",
   "name": "python",
   "nbconvert_exporter": "python",
   "pygments_lexer": "ipython3",
   "version": "3.13.0"
  }
 },
 "nbformat": 4,
 "nbformat_minor": 2
}
