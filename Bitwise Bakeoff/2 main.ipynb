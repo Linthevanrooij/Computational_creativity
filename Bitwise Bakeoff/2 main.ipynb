{
 "cells": [
  {
   "cell_type": "markdown",
   "metadata": {},
   "source": [
    "## Creating an Initial Population\n",
    "\n",
    "Now we can create an initial population, by first defining the population size and then selecting from the list of recipes.\n",
    "\n",
    "\n"
   ]
  },
  {
   "cell_type": "code",
   "execution_count": 7,
   "metadata": {},
   "outputs": [],
   "source": [
    "import json\n",
    "import pprint\n",
    "import random\n",
    "import math"
   ]
  },
  {
   "cell_type": "code",
   "execution_count": 20,
   "metadata": {},
   "outputs": [
    {
     "name": "stdout",
     "output_type": "stream",
     "text": [
      "{ 'ingredients': [ { 'amount': 8.0,\n",
      "                     'ingredient': 'fresh strawberries',\n",
      "                     'unit': 'oz'},\n",
      "                   { 'amount': 1.0,\n",
      "                     'ingredient': 'mochiko flour, sweet rice or glutinous '\n",
      "                                   'rice flour',\n",
      "                     'unit': 'cup'},\n",
      "                   { 'amount': 2.0,\n",
      "                     'ingredient': 'sugar of choice',\n",
      "                     'unit': 'tablespoons'},\n",
      "                   { 'amount': 0.25,\n",
      "                     'ingredient': 'cornstarch, potato starch or tapioca '\n",
      "                                   'starch',\n",
      "                     'unit': 'cup'},\n",
      "                   { 'amount': 1.0,\n",
      "                     'ingredient': 'sweetened white bean paste (shiro an)',\n",
      "                     'unit': 'cup'}],\n",
      "  'name': 'Strawberry Mochi',\n",
      "  'rating': 4.71,\n",
      "  'servings': 8}\n"
     ]
    }
   ],
   "source": [
    "with open('sample.json', 'r') as file:\n",
    "    data = json.load(file)\n",
    "recipes = data['recipes']\n",
    "pprint.PrettyPrinter(indent=2, depth=3).pprint(recipes[0])"
   ]
  },
  {
   "cell_type": "code",
   "execution_count": 9,
   "metadata": {},
   "outputs": [
    {
     "name": "stdout",
     "output_type": "stream",
     "text": [
      "305\n"
     ]
    }
   ],
   "source": [
    "all_ingredients = []\n",
    "for recipe in recipes:\n",
    "  all_ingredients.extend(recipe['ingredients'])\n",
    "print(len(all_ingredients))"
   ]
  },
  {
   "cell_type": "code",
   "execution_count": 17,
   "metadata": {},
   "outputs": [
    {
     "name": "stdout",
     "output_type": "stream",
     "text": [
      "[ { 'ingredients': [ {...},\n",
      "                     {...},\n",
      "                     {...},\n",
      "                     {...},\n",
      "                     {...},\n",
      "                     {...},\n",
      "                     {...},\n",
      "                     {...},\n",
      "                     {...}],\n",
      "    'name': 'Mochi Pancakes',\n",
      "    'rating': '5',\n",
      "    'servings': 14},\n",
      "  { 'ingredients': [ {...},\n",
      "                     {...},\n",
      "                     {...},\n",
      "                     {...},\n",
      "                     {...},\n",
      "                     {...},\n",
      "                     {...},\n",
      "                     {...},\n",
      "                     {...},\n",
      "                     {...},\n",
      "                     {...},\n",
      "                     {...}],\n",
      "    'name': 'Chocolate Mochi Donuts',\n",
      "    'rating': 'needs rating',\n",
      "    'servings': 6},\n",
      "  { 'ingredients': [{...}, {...}, {...}, {...}],\n",
      "    'name': 'Applesauce Mochi',\n",
      "    'rating': 4.37,\n",
      "    'servings': 6},\n",
      "  { 'ingredients': [{...}, {...}, {...}, {...}, {...}, {...}],\n",
      "    'name': 'Blueberry Mochi Ice Cream',\n",
      "    'rating': 5.0,\n",
      "    'servings': 6},\n",
      "  { 'ingredients': [{...}, {...}, {...}, {...}, {...}, {...}],\n",
      "    'name': 'Mango Mochi',\n",
      "    'rating': 'needs rating',\n",
      "    'servings': 14},\n",
      "  { 'ingredients': [{...}, {...}, {...}, {...}, {...}, {...}, {...}],\n",
      "    'name': 'Ube Mochi',\n",
      "    'rating': '5',\n",
      "    'servings': 20},\n",
      "  { 'ingredients': [{...}, {...}, {...}, {...}, {...}, {...}],\n",
      "    'name': 'Pumpkin',\n",
      "    'rating': 4.8,\n",
      "    'servings': 10},\n",
      "  { 'ingredients': [ {...},\n",
      "                     {...},\n",
      "                     {...},\n",
      "                     {...},\n",
      "                     {...},\n",
      "                     {...},\n",
      "                     {...},\n",
      "                     {...},\n",
      "                     {...}],\n",
      "    'name': 'Ube Mochi Muffins',\n",
      "    'rating': 'needs rating',\n",
      "    'servings': 12},\n",
      "  { 'ingredients': [ {...},\n",
      "                     {...},\n",
      "                     {...},\n",
      "                     {...},\n",
      "                     {...},\n",
      "                     {...},\n",
      "                     {...},\n",
      "                     {...},\n",
      "                     {...},\n",
      "                     {...},\n",
      "                     {...},\n",
      "                     {...}],\n",
      "    'name': 'Pandan Donuts',\n",
      "    'rating': 'needs rating',\n",
      "    'servings': 6},\n",
      "  { 'ingredients': [{...}, {...}, {...}, {...}, {...}, {...}, {...}, {...}],\n",
      "    'name': 'Chocolate Mochi',\n",
      "    'rating': '5',\n",
      "    'servings': 16},\n",
      "  { 'ingredients': [{...}, {...}, {...}, {...}, {...}, {...}],\n",
      "    'name': 'Banana Chocolate',\n",
      "    'rating': 3.67,\n",
      "    'servings': 6},\n",
      "  { 'ingredients': [{...}, {...}, {...}, {...}, {...}],\n",
      "    'name': 'Milk Rice Cake',\n",
      "    'rating': '4.75',\n",
      "    'servings': 16},\n",
      "  { 'ingredients': [{...}, {...}, {...}, {...}, {...}, {...}, {...}, {...}],\n",
      "    'name': 'Chocolate Mochi',\n",
      "    'rating': '5',\n",
      "    'servings': 16},\n",
      "  { 'ingredients': [{...}, {...}, {...}, {...}, {...}, {...}, {...}, {...}],\n",
      "    'name': 'Matcha Mochi Waffles',\n",
      "    'rating': 'needs rating',\n",
      "    'servings': 8},\n",
      "  { 'ingredients': [{...}, {...}, {...}, {...}],\n",
      "    'name': 'Raspberry Chocolate',\n",
      "    'rating': 5.0,\n",
      "    'servings': 6},\n",
      "  { 'ingredients': [ {...},\n",
      "                     {...},\n",
      "                     {...},\n",
      "                     {...},\n",
      "                     {...},\n",
      "                     {...},\n",
      "                     {...},\n",
      "                     {...},\n",
      "                     {...},\n",
      "                     {...},\n",
      "                     {...}],\n",
      "    'name': 'Matcha Mochi Muffins',\n",
      "    'rating': 'needs rating',\n",
      "    'servings': 12},\n",
      "  { 'ingredients': [{...}, {...}, {...}, {...}, {...}],\n",
      "    'name': 'Tofu',\n",
      "    'rating': 4.56,\n",
      "    'servings': 5},\n",
      "  { 'ingredients': [{...}, {...}, {...}, {...}],\n",
      "    'name': 'Raspberry Chocolate',\n",
      "    'rating': 5.0,\n",
      "    'servings': 6},\n",
      "  { 'ingredients': [{...}, {...}, {...}, {...}, {...}, {...}],\n",
      "    'name': 'Black Sesame',\n",
      "    'rating': 5.0,\n",
      "    'servings': 8},\n",
      "  { 'ingredients': [{...}, {...}, {...}, {...}, {...}, {...}],\n",
      "    'name': 'Nutella Mochi',\n",
      "    'rating': '5',\n",
      "    'servings': 20}]\n"
     ]
    }
   ],
   "source": [
    "population_size = 20\n",
    "population = random.choices(recipes, k=population_size)\n",
    "pprint.PrettyPrinter(indent=2, depth=3).pprint(population)"
   ]
  },
  {
   "cell_type": "markdown",
   "metadata": {},
   "source": [
    "## Evaluating Recipes (Fitness Function)\n",
    "\n",
    "The following function defines how individuals are evaluated:"
   ]
  },
  {
   "cell_type": "code",
   "execution_count": null,
   "metadata": {},
   "outputs": [],
   "source": []
  }
 ],
 "metadata": {
  "kernelspec": {
   "display_name": "CompCreativity",
   "language": "python",
   "name": "python3"
  },
  "language_info": {
   "codemirror_mode": {
    "name": "ipython",
    "version": 3
   },
   "file_extension": ".py",
   "mimetype": "text/x-python",
   "name": "python",
   "nbconvert_exporter": "python",
   "pygments_lexer": "ipython3",
   "version": "3.13.0"
  }
 },
 "nbformat": 4,
 "nbformat_minor": 2
}
