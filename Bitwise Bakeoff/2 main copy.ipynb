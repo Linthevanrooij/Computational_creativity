{
 "cells": [
  {
   "cell_type": "markdown",
   "metadata": {},
   "source": [
    "## Creating an Initial Population\n",
    "\n",
    "Now we can create an initial population, by first defining the population size and then selecting from the list of recipes.\n",
    "\n",
    "\n"
   ]
  },
  {
   "cell_type": "code",
   "execution_count": 36,
   "metadata": {},
   "outputs": [],
   "source": [
    "import json\n",
    "import pprint\n",
    "import random\n",
    "import math"
   ]
  },
  {
   "cell_type": "code",
   "execution_count": 52,
   "metadata": {},
   "outputs": [],
   "source": [
    "with open('data/mochi.json', 'r') as file:\n",
    "    data = json.load(file)\n",
    "recipes = data['recipes']\n",
    "# pprint.PrettyPrinter(indent=2, depth=3).pprint(recipes[0])"
   ]
  },
  {
   "cell_type": "code",
   "execution_count": 53,
   "metadata": {},
   "outputs": [
    {
     "name": "stdout",
     "output_type": "stream",
     "text": [
      "1 Strawberry Mochi\n",
      "2 Fresh Mango\n",
      "3 Applesauce Mochi\n",
      "4 Sweet Potato\n",
      "5 Raspberry Chocolate\n",
      "6 Banana Chocolate\n",
      "7 Tofu\n",
      "8 Pumpkin\n",
      "9 Savory Sweet Corn Mochi\n",
      "10 Pistachio Butter\n",
      "11 Black Sesame\n",
      "12 Purple Sweet Potato Mochi\n",
      "13 Green Tea / Matcha (with a Twist\n",
      "14 Almond Milk\n",
      "15 Crunchy Peanut Butter\n",
      "16 Blueberry Mochi Ice Cream\n",
      "17 Mugwort Mochi\n",
      "18 Pandan Mochi\n",
      "19 Black Sesame Mochi Muffins\n",
      "20 Mango Mochi\n",
      "21 Matcha Mochi Waffles\n",
      "22 Ube Baked Mochi Donuts\n",
      "23 Potato Mochi\n",
      "24 Chocolate Mochi\n",
      "25 Ube Mochi Muffins\n",
      "26 Biscoff Baked Mochi Donuts\n",
      "27 Nutella Mochi\n",
      "28 Chocolate Mochi Cupcakes\n",
      "29 Matcha Mochi Muffins\n",
      "30 Ube Butter Mochi\n",
      "31 Mochi Waffle Recipe\n",
      "32 Mochi Bread\n",
      "33 Chocolate Mochi Muffins\n",
      "34 Mochi Cookies\n",
      "35 Chocolate Mochi Donuts\n",
      "36 Ube Mochi\n",
      "37 Matcha Baked Mochi Donuts\n",
      "38 Mochi Pancakes\n",
      "39 Pandan Donuts\n",
      "40 Milk Rice Cake\n",
      "amount of ingredients 303\n"
     ]
    }
   ],
   "source": [
    "all_ingredients = []\n",
    "for i, recipe in enumerate(recipes):\n",
    "  all_ingredients.extend(recipe['ingredients'])\n",
    "  print(i+1, recipe['name'])\n",
    "print(\"amount of ingredients\", len(all_ingredients))"
   ]
  },
  {
   "cell_type": "code",
   "execution_count": 54,
   "metadata": {},
   "outputs": [],
   "source": [
    "population_size = 20\n",
    "population = random.choices(recipes, k=population_size)\n",
    "# pprint.PrettyPrinter(indent=2, depth=4).pprint(population)"
   ]
  },
  {
   "cell_type": "markdown",
   "metadata": {},
   "source": [
    "## Evaluating Recipes (Fitness Function)\n",
    "\n",
    "The following function defines how individuals are evaluated:"
   ]
  },
  {
   "cell_type": "code",
   "execution_count": 55,
   "metadata": {},
   "outputs": [],
   "source": [
    "def check_consonants(ingredients):\n",
    "    cons = 0 \n",
    "    for ingredient in ingredients:\n",
    "        name = ingredient['ingredient']\n",
    "        for char in name:\n",
    "           if char.lower()not in 'aeiou' and char.isalpha():\n",
    "              cons += 1\n",
    "    return cons\n",
    "\n",
    "\n",
    "def evaluate_recipes(recipes):\n",
    "  for r in recipes:\n",
    "    # r['fitness'] = len(r['ingredients'])\n",
    "    # print('evaluating recipe', r['name'])\n",
    "    r['fitness'] = 0.1 * r['rating'] + 0.9 * check_consonants(r['ingredients'])\n",
    "    "
   ]
  },
  {
   "cell_type": "code",
   "execution_count": null,
   "metadata": {},
   "outputs": [],
   "source": []
  },
  {
   "cell_type": "code",
   "execution_count": 56,
   "metadata": {},
   "outputs": [
    {
     "name": "stdout",
     "output_type": "stream",
     "text": [
      "[ { 'fitness': 83.3,\n",
      "    'ingredients': [...],\n",
      "    'name': 'Mochi Cookies',\n",
      "    'rating': 5.0,\n",
      "    'servings': 22},\n",
      "  { 'fitness': 83.3,\n",
      "    'ingredients': [...],\n",
      "    'name': 'Mochi Cookies',\n",
      "    'rating': 5.0,\n",
      "    'servings': 22},\n",
      "  { 'fitness': 83.3,\n",
      "    'ingredients': [...],\n",
      "    'name': 'Mochi Cookies',\n",
      "    'rating': 5.0,\n",
      "    'servings': 22},\n",
      "  { 'fitness': 80.50000000000001,\n",
      "    'ingredients': [...],\n",
      "    'name': 'Pandan Donuts',\n",
      "    'rating': 4,\n",
      "    'servings': 6},\n",
      "  { 'fitness': 76.9,\n",
      "    'ingredients': [...],\n",
      "    'name': 'Chocolate Mochi Muffins',\n",
      "    'rating': 4,\n",
      "    'servings': 12},\n",
      "  { 'fitness': 75.10000000000001,\n",
      "    'ingredients': [...],\n",
      "    'name': 'Ube Baked Mochi Donuts',\n",
      "    'rating': 4,\n",
      "    'servings': 6},\n",
      "  { 'fitness': 75.10000000000001,\n",
      "    'ingredients': [...],\n",
      "    'name': 'Ube Baked Mochi Donuts',\n",
      "    'rating': 4,\n",
      "    'servings': 6},\n",
      "  { 'fitness': 59.0,\n",
      "    'ingredients': [...],\n",
      "    'name': 'Raspberry Chocolate',\n",
      "    'rating': 5.0,\n",
      "    'servings': 6},\n",
      "  { 'fitness': 59.0,\n",
      "    'ingredients': [...],\n",
      "    'name': 'Raspberry Chocolate',\n",
      "    'rating': 5.0,\n",
      "    'servings': 6},\n",
      "  { 'fitness': 57.967,\n",
      "    'ingredients': [...],\n",
      "    'name': 'Banana Chocolate',\n",
      "    'rating': 3.67,\n",
      "    'servings': 6},\n",
      "  { 'fitness': 57.967,\n",
      "    'ingredients': [...],\n",
      "    'name': 'Banana Chocolate',\n",
      "    'rating': 3.67,\n",
      "    'servings': 6},\n",
      "  { 'fitness': 55.4,\n",
      "    'ingredients': [...],\n",
      "    'name': 'Pandan Mochi',\n",
      "    'rating': 5.0,\n",
      "    'servings': 12},\n",
      "  { 'fitness': 55.3,\n",
      "    'ingredients': [...],\n",
      "    'name': 'Ube Mochi Muffins',\n",
      "    'rating': 4,\n",
      "    'servings': 12},\n",
      "  { 'fitness': 53.5,\n",
      "    'ingredients': [...],\n",
      "    'name': 'Ube Butter Mochi',\n",
      "    'rating': 4,\n",
      "    'servings': 12},\n",
      "  { 'fitness': 50.9,\n",
      "    'ingredients': [...],\n",
      "    'name': 'Fresh Mango',\n",
      "    'rating': 5.0,\n",
      "    'servings': 6},\n",
      "  { 'fitness': 50.8,\n",
      "    'ingredients': [...],\n",
      "    'name': 'Savory Sweet Corn Mochi',\n",
      "    'rating': 4,\n",
      "    'servings': 12},\n",
      "  { 'fitness': 44.6,\n",
      "    'ingredients': [...],\n",
      "    'name': 'Mochi Bread',\n",
      "    'rating': 5.0,\n",
      "    'servings': 12},\n",
      "  { 'fitness': 44.6,\n",
      "    'ingredients': [...],\n",
      "    'name': 'Mochi Bread',\n",
      "    'rating': 5.0,\n",
      "    'servings': 12},\n",
      "  { 'fitness': 37.3,\n",
      "    'ingredients': [...],\n",
      "    'name': 'Potato Mochi',\n",
      "    'rating': 4,\n",
      "    'servings': 12},\n",
      "  { 'fitness': 37.3,\n",
      "    'ingredients': [...],\n",
      "    'name': 'Potato Mochi',\n",
      "    'rating': 4,\n",
      "    'servings': 12}]\n"
     ]
    }
   ],
   "source": [
    "evaluate_recipes(population)\n",
    "population = sorted(population, reverse = True, key = lambda r: r['fitness'])\n",
    "pprint.PrettyPrinter(indent=2, depth=2).pprint(population)"
   ]
  },
  {
   "cell_type": "code",
   "execution_count": null,
   "metadata": {},
   "outputs": [],
   "source": []
  }
 ],
 "metadata": {
  "kernelspec": {
   "display_name": "CompCreativity",
   "language": "python",
   "name": "python3"
  },
  "language_info": {
   "codemirror_mode": {
    "name": "ipython",
    "version": 3
   },
   "file_extension": ".py",
   "mimetype": "text/x-python",
   "name": "python",
   "nbconvert_exporter": "python",
   "pygments_lexer": "ipython3",
   "version": "3.13.0"
  }
 },
 "nbformat": 4,
 "nbformat_minor": 2
}
