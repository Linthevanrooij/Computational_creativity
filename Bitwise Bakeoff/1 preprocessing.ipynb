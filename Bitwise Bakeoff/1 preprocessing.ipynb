{
 "cells": [
  {
   "cell_type": "markdown",
   "metadata": {},
   "source": [
    "# This notebook will scrape 2 websites with different mochi recipes to make one JSON inspiring set "
   ]
  },
  {
   "cell_type": "markdown",
   "metadata": {},
   "source": [
    "#### Import Libraries"
   ]
  },
  {
   "cell_type": "code",
   "execution_count": 3,
   "metadata": {},
   "outputs": [],
   "source": [
    "import re\n",
    "import requests\n",
    "import string\n",
    "import json\n",
    "import random\n",
    "\n",
    "from bs4 import BeautifulSoup"
   ]
  },
  {
   "cell_type": "markdown",
   "metadata": {},
   "source": [
    "#### General definitions"
   ]
  },
  {
   "cell_type": "code",
   "execution_count": 4,
   "metadata": {},
   "outputs": [],
   "source": [
    "def make_soup(URL):\n",
    "    page = requests.get(URL)\n",
    "    soup = BeautifulSoup(page.content, \"html.parser\")\n",
    "    return soup\n",
    "\n",
    "def convert_to_number(amount):\n",
    "    # Dictionary to map common fractions to their decimal equivalents\n",
    "    fraction_map = {\n",
    "        \"½\": 0.5,\n",
    "        \"⅓\": 1/3,\n",
    "        \"¼\": 0.25,\n",
    "        \"¾\": 0.75,\n",
    "        \"⅛\": 0.125,\n",
    "        \"⅔\": 2/3,\n",
    "        \"⅘\": 4/5\n",
    "        # Add other fractions as needed\n",
    "    }\n",
    "    \n",
    "    # Split the amount into parts\n",
    "    parts = amount.split()\n",
    "\n",
    "    # If there's only one part (like \"1\" or \"½\"), check if it's a whole number or fraction\n",
    "    if len(parts) == 1:\n",
    "        if parts[0] in fraction_map:\n",
    "            return fraction_map[parts[0]]  # It's a fraction like \"½\", return its decimal\n",
    "        else:\n",
    "            return float(parts[0])  # It's a whole number, return as float\n",
    "\n",
    "    # If there are two parts (like \"1 ¼\"), process both the whole number and fraction\n",
    "    elif len(parts) == 2:\n",
    "        whole_part = float(parts[0])  # Convert the first part (whole number) to float\n",
    "        fraction_part = parts[1]      # Second part is the fraction (e.g., \"¼\")\n",
    "\n",
    "        if fraction_part in fraction_map:\n",
    "            return whole_part + fraction_map[fraction_part]  # Add the decimal equivalent of fraction\n",
    "    else: \n",
    "        return f'No match for{amount}'\n",
    "    "
   ]
  },
  {
   "cell_type": "code",
   "execution_count": 5,
   "metadata": {},
   "outputs": [
    {
     "data": {
      "text/plain": [
       "7.0"
      ]
     },
     "execution_count": 5,
     "metadata": {},
     "output_type": "execute_result"
    }
   ],
   "source": [
    "convert_to_number(\"7\")"
   ]
  },
  {
   "cell_type": "markdown",
   "metadata": {},
   "source": [
    "# Scrape from *all purpose veggies*"
   ]
  },
  {
   "cell_type": "markdown",
   "metadata": {},
   "source": [
    "##### Definitions"
   ]
  },
  {
   "cell_type": "code",
   "execution_count": 6,
   "metadata": {},
   "outputs": [],
   "source": [
    "def scrape_ingredients(dom):\n",
    "    \"\"\" returns a dictionary in format: { \"amount\": 150,  \"unit\": \"g\",  \"ingredient\": \"minced beef\" },\n",
    "    \"\"\"\n",
    "    ingredients  = []\n",
    "\n",
    "    for ingredient in dom.find_all(\"li\", class_=\"wprm-recipe-ingredient\"):\n",
    "        dic = {}\n",
    "\n",
    "        # find all objects in the page\n",
    "        amount = ingredient.find(\"span\", class_=\"wprm-recipe-ingredient-amount\").text\n",
    "        unit = ingredient.find(\"span\", class_=\"wprm-recipe-ingredient-unit\").text\n",
    "        name = ingredient.find(\"span\", class_=\"wprm-recipe-ingredient-name\").text\n",
    "\n",
    "        if unit == \"package\":\n",
    "            amount = 1\n",
    "            unit = \"cup\"\n",
    "        elif unit == \"recipe\":\n",
    "            amount = 300\n",
    "            unit = \"g\"\n",
    "            name = \"sweetened white bean paste (shiro an)\"\n",
    "           \n",
    "            dictionary = {\n",
    "                \"amount\": 2.0,\n",
    "                \"unit\": \"tablespoons\",\n",
    "                \"ingredient\": \"pumpkin puree\",\n",
    "            }\n",
    "            ingredients.append(dictionary)\n",
    "\n",
    "            dictionary = {\n",
    "                \"amount\": 2.0,\n",
    "                \"unit\": \"teaspoons\",\n",
    "                \"ingredient\": \"pumpkin pie spice\",\n",
    "            }\n",
    "            ingredients.append(dictionary)\n",
    "        elif unit.lower() == \"tsp\":\n",
    "            unit = \"teaspoons\"\n",
    "        elif unit.lower() == \"tbsp\":\n",
    "            unit = \"tablespoons\"\n",
    "        elif amount == \"6-8\":\n",
    "            amount = 7\n",
    "        elif amount == '1 ¼':\n",
    "            amount = 250\n",
    "            unit = \"g\"\n",
    "            name = \"mashed silken firm tofu\"\n",
    "        else: \n",
    "            amount = convert_to_number(amount)\n",
    "        \n",
    "        # make for each ingredient a seperate dict\n",
    "        dic['amount'] = float(amount)\n",
    "        dic['unit'] = unit\n",
    "        dic['ingredient'] = name\n",
    "        ingredients.append(dic)\n",
    "\n",
    "\n",
    "    return ingredients\n",
    "\n",
    "def scrape_servings(dom):\n",
    "    servings = dom.find(\"span\", class_=\"wprm-recipe-servings\").text\n",
    "    servings = int(servings)\n",
    "    return servings\n",
    "\n",
    "def scrape_rating(dom):\n",
    "    rating = dom.find(\"div\", class_=\"wprm-recipe-rating-details\")\n",
    "    if \"No\" in rating.text:\n",
    "        rating = \"needs rating\"\n",
    "    else:\n",
    "        rating = rating.find(\"span\", class_=\"wprm-recipe-rating-average\").text\n",
    "        rating = float(rating)\n",
    "    return rating"
   ]
  },
  {
   "cell_type": "markdown",
   "metadata": {},
   "source": [
    "### 1. Get main page content and recipe links"
   ]
  },
  {
   "cell_type": "code",
   "execution_count": 7,
   "metadata": {},
   "outputs": [],
   "source": [
    "URL = \"https://allpurposeveggies.com/12967/12-mochi-flavors-easy-recipes-for-mochi-ice-cream-and-more/\"\n",
    "soup = make_soup(URL)\n",
    "\n",
    "recipe_links = []\n",
    "for link in soup.find_all('a', href=True):\n",
    "    if 'See Recipe' in link.get_text():  # Using get_text() ensures you only check the text inside the <a> tag\n",
    "        recipe_links.append(link['href'])\n",
    "\n",
    "recipe_links = recipe_links[:17]"
   ]
  },
  {
   "cell_type": "markdown",
   "metadata": {},
   "source": [
    "### 2. Get list of names of recipe from main page"
   ]
  },
  {
   "cell_type": "code",
   "execution_count": 8,
   "metadata": {},
   "outputs": [],
   "source": [
    "recipe_names = []\n",
    "for title in soup.find_all('h2', class_=\"wp-block-heading\"):\n",
    "    title = title.text\n",
    "    if title[0].isdigit():\n",
    "        title = title.strip(string.punctuation + string.whitespace + string.digits)\n",
    "        recipe_names.append(title)"
   ]
  },
  {
   "cell_type": "markdown",
   "metadata": {},
   "source": [
    "### 3. Scrape recipes into list"
   ]
  },
  {
   "cell_type": "code",
   "execution_count": 9,
   "metadata": {},
   "outputs": [
    {
     "name": "stdout",
     "output_type": "stream",
     "text": [
      "Scraping recipe 1 ... Strawberry Mochi\n",
      "Scraping recipe 2 ... Fresh Mango\n",
      "Scraping recipe 3 ... Applesauce Mochi\n",
      "Scraping recipe 4 ... Sweet Potato\n",
      "Scraping recipe 5 ... Raspberry Chocolate\n",
      "Scraping recipe 6 ... Banana Chocolate\n",
      "Scraping recipe 7 ... Tofu\n",
      "Scraping recipe 8 ... Pumpkin\n",
      "Scraping recipe 9 ... Savory Sweet Corn Mochi\n",
      "Scraping recipe 10 ... Pistachio Butter\n",
      "Scraping recipe 11 ... Black Sesame\n",
      "Scraping recipe 12 ... Purple Sweet Potato Mochi\n",
      "Scraping recipe 13 ... Green Tea / Matcha (with a Twist\n",
      "Scraping recipe 14 ... Almond Milk\n",
      "Scraping recipe 15 ... Crunchy Peanut Butter\n",
      "Scraping recipe 16 ... Blueberry Mochi Ice Cream\n",
      "Scraping recipe 17 ... Mugwort Mochi\n"
     ]
    }
   ],
   "source": [
    "recipes_all_1 = []\n",
    "for i, recipe in enumerate(recipe_links):  # Enumerate, a great Python trick!\n",
    "        dic = {}\n",
    "        title = recipe_names[i]\n",
    "        i = i+1\n",
    "\n",
    "        print('Scraping recipe %d ...' % i, title)\n",
    "\n",
    "        # Grab web page\n",
    "        recipe_html = requests.get(recipe)\n",
    "        \n",
    "        # Extract relevant information for each recipe\n",
    "        recipe_dom = BeautifulSoup(recipe_html.content, \"html.parser\")\n",
    "\n",
    "        \n",
    "        rating = scrape_rating(recipe_dom)\n",
    "        ingredients = scrape_ingredients(recipe_dom)\n",
    "        servings = scrape_servings(recipe_dom)\n",
    "        dic[\"name\"] = title\n",
    "        dic[\"rating\"] = rating\n",
    "        dic[\"ingredients\"] = ingredients\n",
    "        dic[\"servings\"] = servings\n",
    "        \n",
    "        recipes_all_1.append(dic)"
   ]
  },
  {
   "cell_type": "markdown",
   "metadata": {},
   "source": [
    "# 2. Scrape recipes from *The rice chick*"
   ]
  },
  {
   "cell_type": "markdown",
   "metadata": {},
   "source": [
    "##### Definitions"
   ]
  },
  {
   "cell_type": "code",
   "execution_count": 11,
   "metadata": {},
   "outputs": [],
   "source": [
    "def scrape_ingredients(dom):\n",
    "    \"\"\" returns a dictionary in format: { \"amount\": 150,  \"unit\": \"g\",  \"ingredient\": \"minced beef\" },\n",
    "    \"\"\"\n",
    "    ingredients  = []\n",
    "\n",
    "    for ingredient in dom.find_all(\"li\", class_=\"wprm-recipe-ingredient\"):\n",
    "        dic = {}\n",
    "\n",
    "        # find all objects in the page\n",
    "        amount = ingredient.find(\"span\", class_=\"wprm-recipe-ingredient-amount\")\n",
    "        unit = ingredient.find(\"span\", class_=\"wprm-recipe-ingredient-unit\")\n",
    "        name = ingredient.find(\"span\", class_=\"wprm-recipe-ingredient-name\").text\n",
    "\n",
    "        if unit is None:\n",
    "            unit = \"whole\"\n",
    "        elif unit == \"Pinch\": \n",
    "            amount = \"0.3\"\n",
    "            unit = \"g\"\n",
    "        else: \n",
    "            unit = unit.text\n",
    "            unit = re.sub(r\"\\(.*?\\)\", \"\", unit).strip()\n",
    "        \n",
    "        if \"ml/grams\" in name:\n",
    "            unit = \"ml/grams\"\n",
    "        elif \"grams\" in name: \n",
    "            name = \"glutinous rice flour\"\n",
    "        name = re.sub(r\"\\(.*?\\)\", \"\", name).strip()\n",
    "        \n",
    "        if amount is None:\n",
    "            amount = \"1\"\n",
    "        else:\n",
    "            amount = amount.text\n",
    "            \n",
    "        \n",
    "        if amount == \"Pinch of\":\n",
    "            amount = \"0.3\"\n",
    "            unit = \"g\"\n",
    "\n",
    "        amount = convert_to_number(amount)\n",
    "        \n",
    "        # make for each ingredient a seperate dict\n",
    "        dic['amount'] = float(amount)\n",
    "        dic['unit'] = unit\n",
    "        dic['ingredient'] = name\n",
    "        ingredients.append(dic)\n",
    "\n",
    "\n",
    "    return ingredients\n",
    "\n",
    "def scrape_servings(dom):\n",
    "    servings = dom.find(\"span\", class_=\"wprm-recipe-servings\").text\n",
    "    servings = int(servings)\n",
    "    return servings\n",
    "\n",
    "def scrape_rating(dom):\n",
    "    rating = dom.find(\"span\", class_=\"wprm-recipe-rating-average\")\n",
    "    if rating is None:\n",
    "        rating = \"needs rating\"\n",
    "    else:\n",
    "        rating = rating.text\n",
    "    return rating"
   ]
  },
  {
   "cell_type": "markdown",
   "metadata": {},
   "source": [
    "### 1. Get main page content and recipe links"
   ]
  },
  {
   "cell_type": "code",
   "execution_count": 10,
   "metadata": {},
   "outputs": [],
   "source": [
    "URL = \"https://thericechick.com/mochi-recipes/\"\n",
    "\n",
    "soup = make_soup(URL)\n",
    "\n",
    "recipe_links = []\n",
    "recipe_names = []\n",
    "for link in soup.find_all('a', class_=\"wp-block-button__link has-text-color has-background wp-element-button\", href=True):\n",
    "    recipe_links.append(link['href'])\n",
    "    recipe_names.append(link.text)"
   ]
  },
  {
   "cell_type": "markdown",
   "metadata": {},
   "source": [
    "### 2. Scrape recipes into list"
   ]
  },
  {
   "cell_type": "code",
   "execution_count": 13,
   "metadata": {},
   "outputs": [
    {
     "name": "stdout",
     "output_type": "stream",
     "text": [
      "Scraping recipe 1 ... Pandan Mochi\n",
      "Scraping recipe 2 ... Black Sesame Mochi Muffins\n",
      "Scraping recipe 3 ... Mango Mochi\n",
      "Scraping recipe 4 ... Matcha Mochi Waffles\n",
      "Scraping recipe 5 ... Ube Baked Mochi Donuts\n",
      "Scraping recipe 6 ... Potato Mochi\n",
      "Scraping recipe 7 ... Chocolate Mochi\n",
      "Scraping recipe 8 ... Ube Mochi Muffins\n",
      "Scraping recipe 9 ... Biscoff Baked Mochi Donuts\n",
      "Scraping recipe 10 ... Nutella Mochi\n",
      "Scraping recipe 11 ... Chocolate Mochi Cupcakes\n",
      "Scraping recipe 12 ... Matcha Mochi Muffins\n",
      "Scraping recipe 13 ... Ube Butter Mochi\n",
      "Scraping recipe 14 ... Mochi Waffle Recipe\n",
      "Scraping recipe 15 ... Mochi Bread\n",
      "Scraping recipe 16 ... Chocolate Mochi Muffins\n",
      "Scraping recipe 17 ... Mochi Cookies\n",
      "Scraping recipe 18 ... Chocolate Mochi Donuts\n",
      "Scraping recipe 19 ... Ube Mochi\n",
      "Scraping recipe 20 ... Matcha Baked Mochi Donuts\n",
      "Scraping recipe 21 ... Mochi Pancakes\n",
      "Scraping recipe 22 ... Pandan Donuts\n",
      "Scraping recipe 23 ... Milk Rice Cake\n"
     ]
    }
   ],
   "source": [
    "recipes_all_2 = []\n",
    "for i, recipe in enumerate(recipe_links):  # Enumerate, a great Python trick!\n",
    "        dic = {}\n",
    "        title = recipe_names[i]\n",
    "        i = i+1\n",
    "\n",
    "        print('Scraping recipe %d ...' % i, title)\n",
    "\n",
    "        # Grab web page\n",
    "        recipe_html = requests.get(recipe)\n",
    "        \n",
    "        # Extract relevant information for each recipe\n",
    "        recipe_dom = BeautifulSoup(recipe_html.content, \"html.parser\")\n",
    "\n",
    "        \n",
    "        rating = scrape_rating(recipe_dom)\n",
    "        ingredients = scrape_ingredients(recipe_dom)\n",
    "        servings = scrape_servings(recipe_dom)\n",
    "        dic[\"name\"] = title\n",
    "        dic[\"rating\"] = rating\n",
    "        dic[\"ingredients\"] = ingredients\n",
    "        dic[\"servings\"] = servings\n",
    "        \n",
    "        recipes_all_2.append(dic)"
   ]
  },
  {
   "cell_type": "code",
   "execution_count": 14,
   "metadata": {},
   "outputs": [],
   "source": [
    "recipes_all_json = {}\n",
    "recipes_all_json['recipes'] = recipes_all_1 + recipes_all_2 #combine both lists\n",
    "data = json.dumps(recipes_all_json, indent=4) \n",
    "with open(\"data/sample.json\", \"w\") as outfile:\n",
    "    outfile.write(data)"
   ]
  },
  {
   "cell_type": "code",
   "execution_count": null,
   "metadata": {},
   "outputs": [],
   "source": []
  }
 ],
 "metadata": {
  "kernelspec": {
   "display_name": "CompCreativity",
   "language": "python",
   "name": "python3"
  },
  "language_info": {
   "codemirror_mode": {
    "name": "ipython",
    "version": 3
   },
   "file_extension": ".py",
   "mimetype": "text/x-python",
   "name": "python",
   "nbconvert_exporter": "python",
   "pygments_lexer": "ipython3",
   "version": "3.13.0"
  }
 },
 "nbformat": 4,
 "nbformat_minor": 2
}
