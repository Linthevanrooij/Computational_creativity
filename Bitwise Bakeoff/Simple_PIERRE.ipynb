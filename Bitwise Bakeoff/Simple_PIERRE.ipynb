{
  "cells": [
    {
      "cell_type": "markdown",
      "metadata": {
        "id": "XH7clvIQFH9a"
      },
      "source": [
        "# Implementation of Simple PIERRE in Python\n",
        "\n",
        "Note: For this small inspiring set loading from a string is more convenient in Colab but for your own projects you will likely use an external file."
      ]
    },
    {
      "cell_type": "code",
      "execution_count": 1,
      "metadata": {
        "id": "jFoUungQOBxH"
      },
      "outputs": [],
      "source": [
        "data = \"\"\"{\n",
        "  \"recipes\": [\n",
        "    {\n",
        "      \"name\": \"beef chilli\",\n",
        "      \"ingredients\": [\n",
        "        { \"amount\": 150,  \"unit\": \"g\",  \"ingredient\": \"minced beef\" },\n",
        "        { \"amount\": 100,  \"unit\": \"g\",  \"ingredient\": \"onion\" },\n",
        "        { \"amount\": 100,  \"unit\": \"ml\", \"ingredient\": \"water\" },\n",
        "        { \"amount\": 300,  \"unit\": \"g\",  \"ingredient\": \"tomato\" },\n",
        "        { \"amount\": 5,    \"unit\": \"g\",  \"ingredient\": \"chilli powder\" },\n",
        "        { \"amount\": 300,  \"unit\": \"g\",  \"ingredient\": \"red kidney beans\" }\n",
        "      ]\n",
        "    },\n",
        "    {\n",
        "      \"name\": \"cabbage soup\",\n",
        "      \"ingredients\": [\n",
        "        { \"amount\": 80,   \"unit\": \"g\",  \"ingredient\": \"carrot\" },\n",
        "        { \"amount\": 100,  \"unit\": \"g\",  \"ingredient\": \"onion\" },\n",
        "        { \"amount\": 150,  \"unit\": \"g\",  \"ingredient\": \"tomato\" },\n",
        "        { \"amount\": 200,  \"unit\": \"g\",  \"ingredient\": \"cabbage\" },\n",
        "        { \"amount\": 5,    \"unit\": \"g\",  \"ingredient\": \"dry onion soup mix\" },\n",
        "        { \"amount\": 70,   \"unit\": \"g\",  \"ingredient\": \"green bean\" },\n",
        "        { \"amount\": 150,  \"unit\": \"ml\", \"ingredient\": \"tomato juice\" },\n",
        "        { \"amount\": 100,  \"unit\": \"g\",  \"ingredient\": \"celery\" },\n",
        "        { \"amount\": 100,  \"unit\": \"ml\", \"ingredient\": \"beef broth\" }\n",
        "      ]\n",
        "    },\n",
        "    {\n",
        "      \"name\": \"chicken soup\",\n",
        "      \"ingredients\": [\n",
        "        { \"amount\": 5,    \"unit\": \"g\",  \"ingredient\": \"butter\" },\n",
        "        { \"amount\": 50,   \"unit\": \"g\",  \"ingredient\": \"onion\" },\n",
        "        { \"amount\": 30,   \"unit\": \"g\",  \"ingredient\": \"celery\" },\n",
        "        { \"amount\": 600,  \"unit\": \"ml\", \"ingredient\": \"chicken broth\" },\n",
        "        { \"amount\": 100,  \"unit\": \"ml\", \"ingredient\": \"vegetable broth\" },\n",
        "        { \"amount\": 100,  \"unit\": \"g\",  \"ingredient\": \"chicken breast\" },\n",
        "        { \"amount\": 50,   \"unit\": \"g\",  \"ingredient\": \"egg noodle\" },\n",
        "        { \"amount\": 50,   \"unit\": \"g\",  \"ingredient\": \"carrot\" },\n",
        "        { \"amount\": 5,    \"unit\": \"g\",  \"ingredient\": \"basil\" },\n",
        "        { \"amount\": 5,    \"unit\": \"g\",  \"ingredient\": \"oregano\" }\n",
        "      ]\n",
        "    },\n",
        "    {\n",
        "      \"name\": \"butternut squash soup\",\n",
        "      \"ingredients\": [\n",
        "        { \"amount\": 800, \"unit\": \"g\",  \"ingredient\": \"butternut squash\"},\n",
        "        { \"amount\": 100,  \"unit\": \"g\",  \"ingredient\": \"onion\"},\n",
        "        { \"amount\": 50,   \"unit\": \"g\",  \"ingredient\": \"carrot\"},\n",
        "        { \"amount\": 15,   \"unit\": \"g\",  \"ingredient\": \"garlic\"},\n",
        "        { \"amount\": 10,   \"unit\": \"g\",  \"ingredient\": \"thyme\"},\n",
        "        { \"amount\": 5,    \"unit\": \"g\",  \"ingredient\": \"sage\"},\n",
        "        { \"amount\": 200,  \"unit\": \"ml\", \"ingredient\": \"chicken broth\"},\n",
        "        { \"amount\": 1,    \"unit\": \"g\",  \"ingredient\": \"salt\"},\n",
        "        { \"amount\": 1,    \"unit\": \"g\",  \"ingredient\": \"pepper\"},\n",
        "        { \"amount\": 1,    \"unit\": \"g\",  \"ingredient\": \"cayenne\"},\n",
        "        { \"amount\": 20,   \"unit\": \"ml\", \"ingredient\": \"double cream\"},\n",
        "        { \"amount\": 5,    \"unit\": \"g\",  \"ingredient\": \"parsley\"}\n",
        "      ]\n",
        "    },\n",
        "    {\n",
        "      \"name\": \"split pea soup\",\n",
        "      \"ingredients\": [\n",
        "        { \"amount\": 200,  \"unit\": \"g\",  \"ingredient\": \"split peas\"},\n",
        "        { \"amount\": 150,  \"unit\": \"g\",  \"ingredient\": \"onion\"},\n",
        "        { \"amount\": 50,   \"unit\": \"g\",  \"ingredient\": \"carrot\"},\n",
        "        { \"amount\": 50,   \"unit\": \"g\",  \"ingredient\": \"celery\"},\n",
        "        { \"amount\": 10,   \"unit\": \"g\",  \"ingredient\": \"garlic\"},\n",
        "        { \"amount\": 10,   \"unit\": \"g\",  \"ingredient\": \"thyme\"},\n",
        "        { \"amount\": 10,   \"unit\": \"g\",  \"ingredient\": \"ground ginger\"},\n",
        "        { \"amount\": 2,    \"unit\": \"g\",  \"ingredient\": \"chili flakes\"},\n",
        "        { \"amount\": 500,  \"unit\": \"ml\", \"ingredient\": \"chicken broth\"},\n",
        "        { \"amount\": 30,   \"unit\": \"g\",  \"ingredient\": \"bacon\"},\n",
        "        { \"amount\": 1,    \"unit\": \"g\",  \"ingredient\": \"salt\"},\n",
        "        { \"amount\": 1,    \"unit\": \"g\",  \"ingredient\": \"black pepper\"}\n",
        "      ]\n",
        "    },\n",
        "    {\n",
        "      \"name\": \"corn chowder\",\n",
        "      \"ingredients\": [\n",
        "        { \"amount\": 200,  \"unit\": \"g\",  \"ingredient\": \"baby potatoes\"},\n",
        "        { \"amount\": 10,   \"unit\": \"g\",  \"ingredient\": \"plain flour\"},\n",
        "        { \"amount\": 500,  \"unit\": \"ml\", \"ingredient\": \"chicken broth\"},\n",
        "        { \"amount\": 200,  \"unit\": \"g\",  \"ingredient\": \"sweetcorn\"},\n",
        "        { \"amount\": 5,    \"unit\": \"g\",  \"ingredient\": \"thyme\"},\n",
        "        { \"amount\": 5,    \"unit\": \"g\",  \"ingredient\": \"basil\"},\n",
        "        { \"amount\": 5,    \"unit\": \"g\",  \"ingredient\": \"onion powder\"},\n",
        "        { \"amount\": 1,    \"unit\": \"g\",  \"ingredient\": \"salt\"},\n",
        "        { \"amount\": 1,    \"unit\": \"g\",  \"ingredient\": \"black pepper\"},\n",
        "        { \"amount\": 200,  \"unit\": \"g\",  \"ingredient\": \"chicken\"},\n",
        "        { \"amount\": 50,   \"unit\": \"g\",  \"ingredient\": \"cheese\"},\n",
        "        { \"amount\": 20,   \"unit\": \"ml\", \"ingredient\": \"milk\"},\n",
        "        { \"amount\": 10,   \"unit\": \"ml\", \"ingredient\": \"double cream\"},\n",
        "        { \"amount\": 10,   \"unit\": \"g\",  \"ingredient\": \"bacon\"},\n",
        "        { \"amount\": 20,   \"unit\": \"g\",  \"ingredient\": \"chives\"}\n",
        "      ]\n",
        "    },\n",
        "    {\n",
        "      \"name\": \"mulligatawny soup\",\n",
        "      \"ingredients\": [\n",
        "        { \"amount\": 50,   \"unit\": \"g\",  \"ingredient\": \"onion\" },\n",
        "        { \"amount\": 60,   \"unit\": \"g\",  \"ingredient\": \"carrot\" },\n",
        "        { \"amount\": 60,   \"unit\": \"g\",  \"ingredient\": \"celery\" },\n",
        "        { \"amount\": 30,   \"unit\": \"g\",  \"ingredient\": \"butter\" },\n",
        "        { \"amount\": 5,    \"unit\": \"g\",  \"ingredient\": \"flour\" },\n",
        "        { \"amount\": 5,    \"unit\": \"g\",  \"ingredient\": \"curry powder\" },\n",
        "        { \"amount\": 500,  \"unit\": \"ml\", \"ingredient\": \"chicken broth\" },\n",
        "        { \"amount\": 100,  \"unit\": \"g\",  \"ingredient\": \"apple\" },\n",
        "        { \"amount\": 20,   \"unit\": \"g\",  \"ingredient\": \"rice\" },\n",
        "        { \"amount\": 100,  \"unit\": \"g\",  \"ingredient\": \"chicken breast\" },\n",
        "        { \"amount\": 60,   \"unit\": \"ml\", \"ingredient\": \"double cream\" }\n",
        "      ]\n",
        "    }\n",
        "  ]\n",
        "}\"\"\""
      ]
    },
    {
      "cell_type": "markdown",
      "metadata": {
        "id": "sKVfa9ICtSwk"
      },
      "source": [
        "## Loading the Inspiring Set\n",
        "\n",
        "We start by loading the inspiring set from a JSON string. We'll also load some helpful libraries."
      ]
    },
    {
      "cell_type": "code",
      "execution_count": 2,
      "metadata": {
        "id": "7IaFfcGlFG75"
      },
      "outputs": [],
      "source": [
        "import json\n",
        "import pprint\n",
        "import random\n",
        "import math\n",
        "\n",
        "recipes = json.loads(data)['recipes']"
      ]
    },
    {
      "cell_type": "markdown",
      "metadata": {
        "id": "zafD1qzwYi8S"
      },
      "source": [
        "To check what we have loaded we can use the pretty printing library (pprint)."
      ]
    },
    {
      "cell_type": "code",
      "execution_count": 3,
      "metadata": {
        "colab": {
          "base_uri": "https://localhost:8080/"
        },
        "id": "d4eW_Tp1YhZ9",
        "outputId": "834ccec2-873a-42b1-ea27-cc232baa7831"
      },
      "outputs": [
        {
          "name": "stdout",
          "output_type": "stream",
          "text": [
            "{ 'ingredients': [ {'amount': 150, 'ingredient': 'minced beef', 'unit': 'g'},\n",
            "                   {'amount': 100, 'ingredient': 'onion', 'unit': 'g'},\n",
            "                   {'amount': 100, 'ingredient': 'water', 'unit': 'ml'},\n",
            "                   {'amount': 300, 'ingredient': 'tomato', 'unit': 'g'},\n",
            "                   {'amount': 5, 'ingredient': 'chilli powder', 'unit': 'g'},\n",
            "                   { 'amount': 300,\n",
            "                     'ingredient': 'red kidney beans',\n",
            "                     'unit': 'g'}],\n",
            "  'name': 'beef chilli'}\n"
          ]
        }
      ],
      "source": [
        "pprint.PrettyPrinter(indent=2, depth=3).pprint(recipes[0])"
      ]
    },
    {
      "cell_type": "markdown",
      "metadata": {
        "id": "5PFUWrgjHt6O"
      },
      "source": [
        "Next we extract all of the ingredients from the recipes, so that we can use them in mutation operators."
      ]
    },
    {
      "cell_type": "code",
      "execution_count": 4,
      "metadata": {
        "id": "UAr44T3rHtJr"
      },
      "outputs": [],
      "source": [
        "all_ingredients = []\n",
        "for recipe in recipes:\n",
        "  all_ingredients.extend(recipe['ingredients'])"
      ]
    },
    {
      "cell_type": "markdown",
      "metadata": {
        "id": "aiuz-P_3ZkFz"
      },
      "source": [
        "To check on the complete list of ingredients, we can use the pprint library to provide formatted list."
      ]
    },
    {
      "cell_type": "code",
      "execution_count": 5,
      "metadata": {},
      "outputs": [
        {
          "name": "stdout",
          "output_type": "stream",
          "text": [
            "75\n"
          ]
        }
      ],
      "source": [
        "print(len(all_ingredients))"
      ]
    },
    {
      "cell_type": "code",
      "execution_count": 6,
      "metadata": {
        "colab": {
          "base_uri": "https://localhost:8080/"
        },
        "id": "bxIIBTaWY9iF",
        "outputId": "eef69ff5-32b0-48c9-f8c0-908458239709"
      },
      "outputs": [
        {
          "name": "stdout",
          "output_type": "stream",
          "text": [
            "[ {'amount': 150, 'ingredient': 'minced beef', 'unit': 'g'},\n",
            "  {'amount': 100, 'ingredient': 'onion', 'unit': 'g'},\n",
            "  {'amount': 100, 'ingredient': 'water', 'unit': 'ml'},\n",
            "  {'amount': 300, 'ingredient': 'tomato', 'unit': 'g'},\n",
            "  {'amount': 5, 'ingredient': 'chilli powder', 'unit': 'g'},\n",
            "  {'amount': 300, 'ingredient': 'red kidney beans', 'unit': 'g'},\n",
            "  {'amount': 80, 'ingredient': 'carrot', 'unit': 'g'},\n",
            "  {'amount': 100, 'ingredient': 'onion', 'unit': 'g'},\n",
            "  {'amount': 150, 'ingredient': 'tomato', 'unit': 'g'},\n",
            "  {'amount': 200, 'ingredient': 'cabbage', 'unit': 'g'},\n",
            "  {'amount': 5, 'ingredient': 'dry onion soup mix', 'unit': 'g'},\n",
            "  {'amount': 70, 'ingredient': 'green bean', 'unit': 'g'},\n",
            "  {'amount': 150, 'ingredient': 'tomato juice', 'unit': 'ml'},\n",
            "  {'amount': 100, 'ingredient': 'celery', 'unit': 'g'},\n",
            "  {'amount': 100, 'ingredient': 'beef broth', 'unit': 'ml'},\n",
            "  {'amount': 5, 'ingredient': 'butter', 'unit': 'g'},\n",
            "  {'amount': 50, 'ingredient': 'onion', 'unit': 'g'},\n",
            "  {'amount': 30, 'ingredient': 'celery', 'unit': 'g'},\n",
            "  {'amount': 600, 'ingredient': 'chicken broth', 'unit': 'ml'},\n",
            "  {'amount': 100, 'ingredient': 'vegetable broth', 'unit': 'ml'},\n",
            "  {'amount': 100, 'ingredient': 'chicken breast', 'unit': 'g'},\n",
            "  {'amount': 50, 'ingredient': 'egg noodle', 'unit': 'g'},\n",
            "  {'amount': 50, 'ingredient': 'carrot', 'unit': 'g'},\n",
            "  {'amount': 5, 'ingredient': 'basil', 'unit': 'g'},\n",
            "  {'amount': 5, 'ingredient': 'oregano', 'unit': 'g'},\n",
            "  {'amount': 800, 'ingredient': 'butternut squash', 'unit': 'g'},\n",
            "  {'amount': 100, 'ingredient': 'onion', 'unit': 'g'},\n",
            "  {'amount': 50, 'ingredient': 'carrot', 'unit': 'g'},\n",
            "  {'amount': 15, 'ingredient': 'garlic', 'unit': 'g'},\n",
            "  {'amount': 10, 'ingredient': 'thyme', 'unit': 'g'},\n",
            "  {'amount': 5, 'ingredient': 'sage', 'unit': 'g'},\n",
            "  {'amount': 200, 'ingredient': 'chicken broth', 'unit': 'ml'},\n",
            "  {'amount': 1, 'ingredient': 'salt', 'unit': 'g'},\n",
            "  {'amount': 1, 'ingredient': 'pepper', 'unit': 'g'},\n",
            "  {'amount': 1, 'ingredient': 'cayenne', 'unit': 'g'},\n",
            "  {'amount': 20, 'ingredient': 'double cream', 'unit': 'ml'},\n",
            "  {'amount': 5, 'ingredient': 'parsley', 'unit': 'g'},\n",
            "  {'amount': 200, 'ingredient': 'split peas', 'unit': 'g'},\n",
            "  {'amount': 150, 'ingredient': 'onion', 'unit': 'g'},\n",
            "  {'amount': 50, 'ingredient': 'carrot', 'unit': 'g'},\n",
            "  {'amount': 50, 'ingredient': 'celery', 'unit': 'g'},\n",
            "  {'amount': 10, 'ingredient': 'garlic', 'unit': 'g'},\n",
            "  {'amount': 10, 'ingredient': 'thyme', 'unit': 'g'},\n",
            "  {'amount': 10, 'ingredient': 'ground ginger', 'unit': 'g'},\n",
            "  {'amount': 2, 'ingredient': 'chili flakes', 'unit': 'g'},\n",
            "  {'amount': 500, 'ingredient': 'chicken broth', 'unit': 'ml'},\n",
            "  {'amount': 30, 'ingredient': 'bacon', 'unit': 'g'},\n",
            "  {'amount': 1, 'ingredient': 'salt', 'unit': 'g'},\n",
            "  {'amount': 1, 'ingredient': 'black pepper', 'unit': 'g'},\n",
            "  {'amount': 200, 'ingredient': 'baby potatoes', 'unit': 'g'},\n",
            "  {'amount': 10, 'ingredient': 'plain flour', 'unit': 'g'},\n",
            "  {'amount': 500, 'ingredient': 'chicken broth', 'unit': 'ml'},\n",
            "  {'amount': 200, 'ingredient': 'sweetcorn', 'unit': 'g'},\n",
            "  {'amount': 5, 'ingredient': 'thyme', 'unit': 'g'},\n",
            "  {'amount': 5, 'ingredient': 'basil', 'unit': 'g'},\n",
            "  {'amount': 5, 'ingredient': 'onion powder', 'unit': 'g'},\n",
            "  {'amount': 1, 'ingredient': 'salt', 'unit': 'g'},\n",
            "  {'amount': 1, 'ingredient': 'black pepper', 'unit': 'g'},\n",
            "  {'amount': 200, 'ingredient': 'chicken', 'unit': 'g'},\n",
            "  {'amount': 50, 'ingredient': 'cheese', 'unit': 'g'},\n",
            "  {'amount': 20, 'ingredient': 'milk', 'unit': 'ml'},\n",
            "  {'amount': 10, 'ingredient': 'double cream', 'unit': 'ml'},\n",
            "  {'amount': 10, 'ingredient': 'bacon', 'unit': 'g'},\n",
            "  {'amount': 20, 'ingredient': 'chives', 'unit': 'g'},\n",
            "  {'amount': 50, 'ingredient': 'onion', 'unit': 'g'},\n",
            "  {'amount': 60, 'ingredient': 'carrot', 'unit': 'g'},\n",
            "  {'amount': 60, 'ingredient': 'celery', 'unit': 'g'},\n",
            "  {'amount': 30, 'ingredient': 'butter', 'unit': 'g'},\n",
            "  {'amount': 5, 'ingredient': 'flour', 'unit': 'g'},\n",
            "  {'amount': 5, 'ingredient': 'curry powder', 'unit': 'g'},\n",
            "  {'amount': 500, 'ingredient': 'chicken broth', 'unit': 'ml'},\n",
            "  {'amount': 100, 'ingredient': 'apple', 'unit': 'g'},\n",
            "  {'amount': 20, 'ingredient': 'rice', 'unit': 'g'},\n",
            "  {'amount': 100, 'ingredient': 'chicken breast', 'unit': 'g'},\n",
            "  {'amount': 60, 'ingredient': 'double cream', 'unit': 'ml'}]\n"
          ]
        }
      ],
      "source": [
        "pprint.PrettyPrinter(indent=2, depth=2).pprint(all_ingredients)"
      ]
    },
    {
      "cell_type": "markdown",
      "metadata": {
        "id": "l5S0pYmvLx0e"
      },
      "source": [
        "## Creating an Initial Population\n",
        "\n",
        "Now we can create an initial population, by first defining the population size and then selecting from the list of recipes."
      ]
    },
    {
      "cell_type": "code",
      "execution_count": 7,
      "metadata": {
        "id": "VufUj12ML1V7"
      },
      "outputs": [],
      "source": [
        "population_size = 20\n",
        "\n",
        "population = random.choices(recipes, k=population_size)"
      ]
    },
    {
      "cell_type": "markdown",
      "metadata": {
        "id": "3k7fGRALZ9Ve"
      },
      "source": [
        "And we can check on the recipes that were selected in the initial population."
      ]
    },
    {
      "cell_type": "code",
      "execution_count": 8,
      "metadata": {
        "colab": {
          "base_uri": "https://localhost:8080/"
        },
        "id": "l3LGl1JXXuxy",
        "outputId": "611dce97-0cd0-46b0-dfe2-c1de53008b7d"
      },
      "outputs": [
        {
          "name": "stdout",
          "output_type": "stream",
          "text": [
            "[ {'ingredients': [...], 'name': 'mulligatawny soup'},\n",
            "  {'ingredients': [...], 'name': 'corn chowder'},\n",
            "  {'ingredients': [...], 'name': 'mulligatawny soup'},\n",
            "  {'ingredients': [...], 'name': 'cabbage soup'},\n",
            "  {'ingredients': [...], 'name': 'cabbage soup'},\n",
            "  {'ingredients': [...], 'name': 'butternut squash soup'},\n",
            "  {'ingredients': [...], 'name': 'corn chowder'},\n",
            "  {'ingredients': [...], 'name': 'cabbage soup'},\n",
            "  {'ingredients': [...], 'name': 'cabbage soup'},\n",
            "  {'ingredients': [...], 'name': 'cabbage soup'},\n",
            "  {'ingredients': [...], 'name': 'corn chowder'},\n",
            "  {'ingredients': [...], 'name': 'butternut squash soup'},\n",
            "  {'ingredients': [...], 'name': 'cabbage soup'},\n",
            "  {'ingredients': [...], 'name': 'butternut squash soup'},\n",
            "  {'ingredients': [...], 'name': 'mulligatawny soup'},\n",
            "  {'ingredients': [...], 'name': 'mulligatawny soup'},\n",
            "  {'ingredients': [...], 'name': 'cabbage soup'},\n",
            "  {'ingredients': [...], 'name': 'split pea soup'},\n",
            "  {'ingredients': [...], 'name': 'split pea soup'},\n",
            "  {'ingredients': [...], 'name': 'cabbage soup'}]\n"
          ]
        },
        {
          "data": {
            "text/plain": [
              "[{'name': 'mulligatawny soup',\n",
              "  'ingredients': [{'amount': 50, 'unit': 'g', 'ingredient': 'onion'},\n",
              "   {'amount': 60, 'unit': 'g', 'ingredient': 'carrot'},\n",
              "   {'amount': 60, 'unit': 'g', 'ingredient': 'celery'},\n",
              "   {'amount': 30, 'unit': 'g', 'ingredient': 'butter'},\n",
              "   {'amount': 5, 'unit': 'g', 'ingredient': 'flour'},\n",
              "   {'amount': 5, 'unit': 'g', 'ingredient': 'curry powder'},\n",
              "   {'amount': 500, 'unit': 'ml', 'ingredient': 'chicken broth'},\n",
              "   {'amount': 100, 'unit': 'g', 'ingredient': 'apple'},\n",
              "   {'amount': 20, 'unit': 'g', 'ingredient': 'rice'},\n",
              "   {'amount': 100, 'unit': 'g', 'ingredient': 'chicken breast'},\n",
              "   {'amount': 60, 'unit': 'ml', 'ingredient': 'double cream'}]},\n",
              " {'name': 'corn chowder',\n",
              "  'ingredients': [{'amount': 200, 'unit': 'g', 'ingredient': 'baby potatoes'},\n",
              "   {'amount': 10, 'unit': 'g', 'ingredient': 'plain flour'},\n",
              "   {'amount': 500, 'unit': 'ml', 'ingredient': 'chicken broth'},\n",
              "   {'amount': 200, 'unit': 'g', 'ingredient': 'sweetcorn'},\n",
              "   {'amount': 5, 'unit': 'g', 'ingredient': 'thyme'},\n",
              "   {'amount': 5, 'unit': 'g', 'ingredient': 'basil'},\n",
              "   {'amount': 5, 'unit': 'g', 'ingredient': 'onion powder'},\n",
              "   {'amount': 1, 'unit': 'g', 'ingredient': 'salt'},\n",
              "   {'amount': 1, 'unit': 'g', 'ingredient': 'black pepper'},\n",
              "   {'amount': 200, 'unit': 'g', 'ingredient': 'chicken'},\n",
              "   {'amount': 50, 'unit': 'g', 'ingredient': 'cheese'},\n",
              "   {'amount': 20, 'unit': 'ml', 'ingredient': 'milk'},\n",
              "   {'amount': 10, 'unit': 'ml', 'ingredient': 'double cream'},\n",
              "   {'amount': 10, 'unit': 'g', 'ingredient': 'bacon'},\n",
              "   {'amount': 20, 'unit': 'g', 'ingredient': 'chives'}]},\n",
              " {'name': 'mulligatawny soup',\n",
              "  'ingredients': [{'amount': 50, 'unit': 'g', 'ingredient': 'onion'},\n",
              "   {'amount': 60, 'unit': 'g', 'ingredient': 'carrot'},\n",
              "   {'amount': 60, 'unit': 'g', 'ingredient': 'celery'},\n",
              "   {'amount': 30, 'unit': 'g', 'ingredient': 'butter'},\n",
              "   {'amount': 5, 'unit': 'g', 'ingredient': 'flour'},\n",
              "   {'amount': 5, 'unit': 'g', 'ingredient': 'curry powder'},\n",
              "   {'amount': 500, 'unit': 'ml', 'ingredient': 'chicken broth'},\n",
              "   {'amount': 100, 'unit': 'g', 'ingredient': 'apple'},\n",
              "   {'amount': 20, 'unit': 'g', 'ingredient': 'rice'},\n",
              "   {'amount': 100, 'unit': 'g', 'ingredient': 'chicken breast'},\n",
              "   {'amount': 60, 'unit': 'ml', 'ingredient': 'double cream'}]},\n",
              " {'name': 'cabbage soup',\n",
              "  'ingredients': [{'amount': 80, 'unit': 'g', 'ingredient': 'carrot'},\n",
              "   {'amount': 100, 'unit': 'g', 'ingredient': 'onion'},\n",
              "   {'amount': 150, 'unit': 'g', 'ingredient': 'tomato'},\n",
              "   {'amount': 200, 'unit': 'g', 'ingredient': 'cabbage'},\n",
              "   {'amount': 5, 'unit': 'g', 'ingredient': 'dry onion soup mix'},\n",
              "   {'amount': 70, 'unit': 'g', 'ingredient': 'green bean'},\n",
              "   {'amount': 150, 'unit': 'ml', 'ingredient': 'tomato juice'},\n",
              "   {'amount': 100, 'unit': 'g', 'ingredient': 'celery'},\n",
              "   {'amount': 100, 'unit': 'ml', 'ingredient': 'beef broth'}]},\n",
              " {'name': 'cabbage soup',\n",
              "  'ingredients': [{'amount': 80, 'unit': 'g', 'ingredient': 'carrot'},\n",
              "   {'amount': 100, 'unit': 'g', 'ingredient': 'onion'},\n",
              "   {'amount': 150, 'unit': 'g', 'ingredient': 'tomato'},\n",
              "   {'amount': 200, 'unit': 'g', 'ingredient': 'cabbage'},\n",
              "   {'amount': 5, 'unit': 'g', 'ingredient': 'dry onion soup mix'},\n",
              "   {'amount': 70, 'unit': 'g', 'ingredient': 'green bean'},\n",
              "   {'amount': 150, 'unit': 'ml', 'ingredient': 'tomato juice'},\n",
              "   {'amount': 100, 'unit': 'g', 'ingredient': 'celery'},\n",
              "   {'amount': 100, 'unit': 'ml', 'ingredient': 'beef broth'}]},\n",
              " {'name': 'butternut squash soup',\n",
              "  'ingredients': [{'amount': 800,\n",
              "    'unit': 'g',\n",
              "    'ingredient': 'butternut squash'},\n",
              "   {'amount': 100, 'unit': 'g', 'ingredient': 'onion'},\n",
              "   {'amount': 50, 'unit': 'g', 'ingredient': 'carrot'},\n",
              "   {'amount': 15, 'unit': 'g', 'ingredient': 'garlic'},\n",
              "   {'amount': 10, 'unit': 'g', 'ingredient': 'thyme'},\n",
              "   {'amount': 5, 'unit': 'g', 'ingredient': 'sage'},\n",
              "   {'amount': 200, 'unit': 'ml', 'ingredient': 'chicken broth'},\n",
              "   {'amount': 1, 'unit': 'g', 'ingredient': 'salt'},\n",
              "   {'amount': 1, 'unit': 'g', 'ingredient': 'pepper'},\n",
              "   {'amount': 1, 'unit': 'g', 'ingredient': 'cayenne'},\n",
              "   {'amount': 20, 'unit': 'ml', 'ingredient': 'double cream'},\n",
              "   {'amount': 5, 'unit': 'g', 'ingredient': 'parsley'}]},\n",
              " {'name': 'corn chowder',\n",
              "  'ingredients': [{'amount': 200, 'unit': 'g', 'ingredient': 'baby potatoes'},\n",
              "   {'amount': 10, 'unit': 'g', 'ingredient': 'plain flour'},\n",
              "   {'amount': 500, 'unit': 'ml', 'ingredient': 'chicken broth'},\n",
              "   {'amount': 200, 'unit': 'g', 'ingredient': 'sweetcorn'},\n",
              "   {'amount': 5, 'unit': 'g', 'ingredient': 'thyme'},\n",
              "   {'amount': 5, 'unit': 'g', 'ingredient': 'basil'},\n",
              "   {'amount': 5, 'unit': 'g', 'ingredient': 'onion powder'},\n",
              "   {'amount': 1, 'unit': 'g', 'ingredient': 'salt'},\n",
              "   {'amount': 1, 'unit': 'g', 'ingredient': 'black pepper'},\n",
              "   {'amount': 200, 'unit': 'g', 'ingredient': 'chicken'},\n",
              "   {'amount': 50, 'unit': 'g', 'ingredient': 'cheese'},\n",
              "   {'amount': 20, 'unit': 'ml', 'ingredient': 'milk'},\n",
              "   {'amount': 10, 'unit': 'ml', 'ingredient': 'double cream'},\n",
              "   {'amount': 10, 'unit': 'g', 'ingredient': 'bacon'},\n",
              "   {'amount': 20, 'unit': 'g', 'ingredient': 'chives'}]},\n",
              " {'name': 'cabbage soup',\n",
              "  'ingredients': [{'amount': 80, 'unit': 'g', 'ingredient': 'carrot'},\n",
              "   {'amount': 100, 'unit': 'g', 'ingredient': 'onion'},\n",
              "   {'amount': 150, 'unit': 'g', 'ingredient': 'tomato'},\n",
              "   {'amount': 200, 'unit': 'g', 'ingredient': 'cabbage'},\n",
              "   {'amount': 5, 'unit': 'g', 'ingredient': 'dry onion soup mix'},\n",
              "   {'amount': 70, 'unit': 'g', 'ingredient': 'green bean'},\n",
              "   {'amount': 150, 'unit': 'ml', 'ingredient': 'tomato juice'},\n",
              "   {'amount': 100, 'unit': 'g', 'ingredient': 'celery'},\n",
              "   {'amount': 100, 'unit': 'ml', 'ingredient': 'beef broth'}]},\n",
              " {'name': 'cabbage soup',\n",
              "  'ingredients': [{'amount': 80, 'unit': 'g', 'ingredient': 'carrot'},\n",
              "   {'amount': 100, 'unit': 'g', 'ingredient': 'onion'},\n",
              "   {'amount': 150, 'unit': 'g', 'ingredient': 'tomato'},\n",
              "   {'amount': 200, 'unit': 'g', 'ingredient': 'cabbage'},\n",
              "   {'amount': 5, 'unit': 'g', 'ingredient': 'dry onion soup mix'},\n",
              "   {'amount': 70, 'unit': 'g', 'ingredient': 'green bean'},\n",
              "   {'amount': 150, 'unit': 'ml', 'ingredient': 'tomato juice'},\n",
              "   {'amount': 100, 'unit': 'g', 'ingredient': 'celery'},\n",
              "   {'amount': 100, 'unit': 'ml', 'ingredient': 'beef broth'}]},\n",
              " {'name': 'cabbage soup',\n",
              "  'ingredients': [{'amount': 80, 'unit': 'g', 'ingredient': 'carrot'},\n",
              "   {'amount': 100, 'unit': 'g', 'ingredient': 'onion'},\n",
              "   {'amount': 150, 'unit': 'g', 'ingredient': 'tomato'},\n",
              "   {'amount': 200, 'unit': 'g', 'ingredient': 'cabbage'},\n",
              "   {'amount': 5, 'unit': 'g', 'ingredient': 'dry onion soup mix'},\n",
              "   {'amount': 70, 'unit': 'g', 'ingredient': 'green bean'},\n",
              "   {'amount': 150, 'unit': 'ml', 'ingredient': 'tomato juice'},\n",
              "   {'amount': 100, 'unit': 'g', 'ingredient': 'celery'},\n",
              "   {'amount': 100, 'unit': 'ml', 'ingredient': 'beef broth'}]},\n",
              " {'name': 'corn chowder',\n",
              "  'ingredients': [{'amount': 200, 'unit': 'g', 'ingredient': 'baby potatoes'},\n",
              "   {'amount': 10, 'unit': 'g', 'ingredient': 'plain flour'},\n",
              "   {'amount': 500, 'unit': 'ml', 'ingredient': 'chicken broth'},\n",
              "   {'amount': 200, 'unit': 'g', 'ingredient': 'sweetcorn'},\n",
              "   {'amount': 5, 'unit': 'g', 'ingredient': 'thyme'},\n",
              "   {'amount': 5, 'unit': 'g', 'ingredient': 'basil'},\n",
              "   {'amount': 5, 'unit': 'g', 'ingredient': 'onion powder'},\n",
              "   {'amount': 1, 'unit': 'g', 'ingredient': 'salt'},\n",
              "   {'amount': 1, 'unit': 'g', 'ingredient': 'black pepper'},\n",
              "   {'amount': 200, 'unit': 'g', 'ingredient': 'chicken'},\n",
              "   {'amount': 50, 'unit': 'g', 'ingredient': 'cheese'},\n",
              "   {'amount': 20, 'unit': 'ml', 'ingredient': 'milk'},\n",
              "   {'amount': 10, 'unit': 'ml', 'ingredient': 'double cream'},\n",
              "   {'amount': 10, 'unit': 'g', 'ingredient': 'bacon'},\n",
              "   {'amount': 20, 'unit': 'g', 'ingredient': 'chives'}]},\n",
              " {'name': 'butternut squash soup',\n",
              "  'ingredients': [{'amount': 800,\n",
              "    'unit': 'g',\n",
              "    'ingredient': 'butternut squash'},\n",
              "   {'amount': 100, 'unit': 'g', 'ingredient': 'onion'},\n",
              "   {'amount': 50, 'unit': 'g', 'ingredient': 'carrot'},\n",
              "   {'amount': 15, 'unit': 'g', 'ingredient': 'garlic'},\n",
              "   {'amount': 10, 'unit': 'g', 'ingredient': 'thyme'},\n",
              "   {'amount': 5, 'unit': 'g', 'ingredient': 'sage'},\n",
              "   {'amount': 200, 'unit': 'ml', 'ingredient': 'chicken broth'},\n",
              "   {'amount': 1, 'unit': 'g', 'ingredient': 'salt'},\n",
              "   {'amount': 1, 'unit': 'g', 'ingredient': 'pepper'},\n",
              "   {'amount': 1, 'unit': 'g', 'ingredient': 'cayenne'},\n",
              "   {'amount': 20, 'unit': 'ml', 'ingredient': 'double cream'},\n",
              "   {'amount': 5, 'unit': 'g', 'ingredient': 'parsley'}]},\n",
              " {'name': 'cabbage soup',\n",
              "  'ingredients': [{'amount': 80, 'unit': 'g', 'ingredient': 'carrot'},\n",
              "   {'amount': 100, 'unit': 'g', 'ingredient': 'onion'},\n",
              "   {'amount': 150, 'unit': 'g', 'ingredient': 'tomato'},\n",
              "   {'amount': 200, 'unit': 'g', 'ingredient': 'cabbage'},\n",
              "   {'amount': 5, 'unit': 'g', 'ingredient': 'dry onion soup mix'},\n",
              "   {'amount': 70, 'unit': 'g', 'ingredient': 'green bean'},\n",
              "   {'amount': 150, 'unit': 'ml', 'ingredient': 'tomato juice'},\n",
              "   {'amount': 100, 'unit': 'g', 'ingredient': 'celery'},\n",
              "   {'amount': 100, 'unit': 'ml', 'ingredient': 'beef broth'}]},\n",
              " {'name': 'butternut squash soup',\n",
              "  'ingredients': [{'amount': 800,\n",
              "    'unit': 'g',\n",
              "    'ingredient': 'butternut squash'},\n",
              "   {'amount': 100, 'unit': 'g', 'ingredient': 'onion'},\n",
              "   {'amount': 50, 'unit': 'g', 'ingredient': 'carrot'},\n",
              "   {'amount': 15, 'unit': 'g', 'ingredient': 'garlic'},\n",
              "   {'amount': 10, 'unit': 'g', 'ingredient': 'thyme'},\n",
              "   {'amount': 5, 'unit': 'g', 'ingredient': 'sage'},\n",
              "   {'amount': 200, 'unit': 'ml', 'ingredient': 'chicken broth'},\n",
              "   {'amount': 1, 'unit': 'g', 'ingredient': 'salt'},\n",
              "   {'amount': 1, 'unit': 'g', 'ingredient': 'pepper'},\n",
              "   {'amount': 1, 'unit': 'g', 'ingredient': 'cayenne'},\n",
              "   {'amount': 20, 'unit': 'ml', 'ingredient': 'double cream'},\n",
              "   {'amount': 5, 'unit': 'g', 'ingredient': 'parsley'}]},\n",
              " {'name': 'mulligatawny soup',\n",
              "  'ingredients': [{'amount': 50, 'unit': 'g', 'ingredient': 'onion'},\n",
              "   {'amount': 60, 'unit': 'g', 'ingredient': 'carrot'},\n",
              "   {'amount': 60, 'unit': 'g', 'ingredient': 'celery'},\n",
              "   {'amount': 30, 'unit': 'g', 'ingredient': 'butter'},\n",
              "   {'amount': 5, 'unit': 'g', 'ingredient': 'flour'},\n",
              "   {'amount': 5, 'unit': 'g', 'ingredient': 'curry powder'},\n",
              "   {'amount': 500, 'unit': 'ml', 'ingredient': 'chicken broth'},\n",
              "   {'amount': 100, 'unit': 'g', 'ingredient': 'apple'},\n",
              "   {'amount': 20, 'unit': 'g', 'ingredient': 'rice'},\n",
              "   {'amount': 100, 'unit': 'g', 'ingredient': 'chicken breast'},\n",
              "   {'amount': 60, 'unit': 'ml', 'ingredient': 'double cream'}]},\n",
              " {'name': 'mulligatawny soup',\n",
              "  'ingredients': [{'amount': 50, 'unit': 'g', 'ingredient': 'onion'},\n",
              "   {'amount': 60, 'unit': 'g', 'ingredient': 'carrot'},\n",
              "   {'amount': 60, 'unit': 'g', 'ingredient': 'celery'},\n",
              "   {'amount': 30, 'unit': 'g', 'ingredient': 'butter'},\n",
              "   {'amount': 5, 'unit': 'g', 'ingredient': 'flour'},\n",
              "   {'amount': 5, 'unit': 'g', 'ingredient': 'curry powder'},\n",
              "   {'amount': 500, 'unit': 'ml', 'ingredient': 'chicken broth'},\n",
              "   {'amount': 100, 'unit': 'g', 'ingredient': 'apple'},\n",
              "   {'amount': 20, 'unit': 'g', 'ingredient': 'rice'},\n",
              "   {'amount': 100, 'unit': 'g', 'ingredient': 'chicken breast'},\n",
              "   {'amount': 60, 'unit': 'ml', 'ingredient': 'double cream'}]},\n",
              " {'name': 'cabbage soup',\n",
              "  'ingredients': [{'amount': 80, 'unit': 'g', 'ingredient': 'carrot'},\n",
              "   {'amount': 100, 'unit': 'g', 'ingredient': 'onion'},\n",
              "   {'amount': 150, 'unit': 'g', 'ingredient': 'tomato'},\n",
              "   {'amount': 200, 'unit': 'g', 'ingredient': 'cabbage'},\n",
              "   {'amount': 5, 'unit': 'g', 'ingredient': 'dry onion soup mix'},\n",
              "   {'amount': 70, 'unit': 'g', 'ingredient': 'green bean'},\n",
              "   {'amount': 150, 'unit': 'ml', 'ingredient': 'tomato juice'},\n",
              "   {'amount': 100, 'unit': 'g', 'ingredient': 'celery'},\n",
              "   {'amount': 100, 'unit': 'ml', 'ingredient': 'beef broth'}]},\n",
              " {'name': 'split pea soup',\n",
              "  'ingredients': [{'amount': 200, 'unit': 'g', 'ingredient': 'split peas'},\n",
              "   {'amount': 150, 'unit': 'g', 'ingredient': 'onion'},\n",
              "   {'amount': 50, 'unit': 'g', 'ingredient': 'carrot'},\n",
              "   {'amount': 50, 'unit': 'g', 'ingredient': 'celery'},\n",
              "   {'amount': 10, 'unit': 'g', 'ingredient': 'garlic'},\n",
              "   {'amount': 10, 'unit': 'g', 'ingredient': 'thyme'},\n",
              "   {'amount': 10, 'unit': 'g', 'ingredient': 'ground ginger'},\n",
              "   {'amount': 2, 'unit': 'g', 'ingredient': 'chili flakes'},\n",
              "   {'amount': 500, 'unit': 'ml', 'ingredient': 'chicken broth'},\n",
              "   {'amount': 30, 'unit': 'g', 'ingredient': 'bacon'},\n",
              "   {'amount': 1, 'unit': 'g', 'ingredient': 'salt'},\n",
              "   {'amount': 1, 'unit': 'g', 'ingredient': 'black pepper'}]},\n",
              " {'name': 'split pea soup',\n",
              "  'ingredients': [{'amount': 200, 'unit': 'g', 'ingredient': 'split peas'},\n",
              "   {'amount': 150, 'unit': 'g', 'ingredient': 'onion'},\n",
              "   {'amount': 50, 'unit': 'g', 'ingredient': 'carrot'},\n",
              "   {'amount': 50, 'unit': 'g', 'ingredient': 'celery'},\n",
              "   {'amount': 10, 'unit': 'g', 'ingredient': 'garlic'},\n",
              "   {'amount': 10, 'unit': 'g', 'ingredient': 'thyme'},\n",
              "   {'amount': 10, 'unit': 'g', 'ingredient': 'ground ginger'},\n",
              "   {'amount': 2, 'unit': 'g', 'ingredient': 'chili flakes'},\n",
              "   {'amount': 500, 'unit': 'ml', 'ingredient': 'chicken broth'},\n",
              "   {'amount': 30, 'unit': 'g', 'ingredient': 'bacon'},\n",
              "   {'amount': 1, 'unit': 'g', 'ingredient': 'salt'},\n",
              "   {'amount': 1, 'unit': 'g', 'ingredient': 'black pepper'}]},\n",
              " {'name': 'cabbage soup',\n",
              "  'ingredients': [{'amount': 80, 'unit': 'g', 'ingredient': 'carrot'},\n",
              "   {'amount': 100, 'unit': 'g', 'ingredient': 'onion'},\n",
              "   {'amount': 150, 'unit': 'g', 'ingredient': 'tomato'},\n",
              "   {'amount': 200, 'unit': 'g', 'ingredient': 'cabbage'},\n",
              "   {'amount': 5, 'unit': 'g', 'ingredient': 'dry onion soup mix'},\n",
              "   {'amount': 70, 'unit': 'g', 'ingredient': 'green bean'},\n",
              "   {'amount': 150, 'unit': 'ml', 'ingredient': 'tomato juice'},\n",
              "   {'amount': 100, 'unit': 'g', 'ingredient': 'celery'},\n",
              "   {'amount': 100, 'unit': 'ml', 'ingredient': 'beef broth'}]}]"
            ]
          },
          "execution_count": 8,
          "metadata": {},
          "output_type": "execute_result"
        }
      ],
      "source": [
        "pprint.PrettyPrinter(indent=2, depth=2).pprint(population)\n",
        "population"
      ]
    },
    {
      "cell_type": "markdown",
      "metadata": {
        "id": "H7duEmJnOfi0"
      },
      "source": [
        "## Evaluating Recipes (Fitness Function)\n",
        "\n",
        "The following function defines how individuals are evaluated:"
      ]
    },
    {
      "cell_type": "code",
      "execution_count": 9,
      "metadata": {
        "id": "fLSNus4iOs_L"
      },
      "outputs": [],
      "source": [
        "def evaluate_recipes(recipes):\n",
        "  for r in recipes:\n",
        "    r['fitness'] = len(r['ingredients'])"
      ]
    },
    {
      "cell_type": "markdown",
      "metadata": {
        "id": "Tdnvw92DaxWp"
      },
      "source": [
        "We can use this to evaluate the initial population."
      ]
    },
    {
      "cell_type": "code",
      "execution_count": 10,
      "metadata": {
        "id": "qvA7IsCJaZUw"
      },
      "outputs": [],
      "source": [
        "evaluate_recipes(population)\n",
        "population = sorted(population, reverse = True, key = lambda r: r['fitness'])"
      ]
    },
    {
      "cell_type": "code",
      "execution_count": 11,
      "metadata": {
        "colab": {
          "base_uri": "https://localhost:8080/"
        },
        "id": "_hA2evqgaP2u",
        "outputId": "e4f9f0b8-2654-461f-f8f6-a96e250034d5"
      },
      "outputs": [
        {
          "name": "stdout",
          "output_type": "stream",
          "text": [
            "[ {'fitness': 15, 'ingredients': [...], 'name': 'corn chowder'},\n",
            "  {'fitness': 15, 'ingredients': [...], 'name': 'corn chowder'},\n",
            "  {'fitness': 15, 'ingredients': [...], 'name': 'corn chowder'},\n",
            "  {'fitness': 12, 'ingredients': [...], 'name': 'butternut squash soup'},\n",
            "  {'fitness': 12, 'ingredients': [...], 'name': 'butternut squash soup'},\n",
            "  {'fitness': 12, 'ingredients': [...], 'name': 'butternut squash soup'},\n",
            "  {'fitness': 12, 'ingredients': [...], 'name': 'split pea soup'},\n",
            "  {'fitness': 12, 'ingredients': [...], 'name': 'split pea soup'},\n",
            "  {'fitness': 11, 'ingredients': [...], 'name': 'mulligatawny soup'},\n",
            "  {'fitness': 11, 'ingredients': [...], 'name': 'mulligatawny soup'},\n",
            "  {'fitness': 11, 'ingredients': [...], 'name': 'mulligatawny soup'},\n",
            "  {'fitness': 11, 'ingredients': [...], 'name': 'mulligatawny soup'},\n",
            "  {'fitness': 9, 'ingredients': [...], 'name': 'cabbage soup'},\n",
            "  {'fitness': 9, 'ingredients': [...], 'name': 'cabbage soup'},\n",
            "  {'fitness': 9, 'ingredients': [...], 'name': 'cabbage soup'},\n",
            "  {'fitness': 9, 'ingredients': [...], 'name': 'cabbage soup'},\n",
            "  {'fitness': 9, 'ingredients': [...], 'name': 'cabbage soup'},\n",
            "  {'fitness': 9, 'ingredients': [...], 'name': 'cabbage soup'},\n",
            "  {'fitness': 9, 'ingredients': [...], 'name': 'cabbage soup'},\n",
            "  {'fitness': 9, 'ingredients': [...], 'name': 'cabbage soup'}]\n"
          ]
        }
      ],
      "source": [
        "pprint.PrettyPrinter(indent=2, depth=2).pprint(population)"
      ]
    },
    {
      "cell_type": "markdown",
      "metadata": {
        "id": "LHYYL0jlw_yi"
      },
      "source": [
        "## Selecting Recipes\n",
        "\n",
        "The following function implements Roulette Wheel selection of individuals based on their fitness:"
      ]
    },
    {
      "cell_type": "code",
      "execution_count": 12,
      "metadata": {
        "id": "6QIW7GdqPaBo"
      },
      "outputs": [
        {
          "data": {
            "text/plain": [
              "{'name': 'cabbage soup',\n",
              " 'ingredients': [{'amount': 80, 'unit': 'g', 'ingredient': 'carrot'},\n",
              "  {'amount': 100, 'unit': 'g', 'ingredient': 'onion'},\n",
              "  {'amount': 150, 'unit': 'g', 'ingredient': 'tomato'},\n",
              "  {'amount': 200, 'unit': 'g', 'ingredient': 'cabbage'},\n",
              "  {'amount': 5, 'unit': 'g', 'ingredient': 'dry onion soup mix'},\n",
              "  {'amount': 70, 'unit': 'g', 'ingredient': 'green bean'},\n",
              "  {'amount': 150, 'unit': 'ml', 'ingredient': 'tomato juice'},\n",
              "  {'amount': 100, 'unit': 'g', 'ingredient': 'celery'},\n",
              "  {'amount': 100, 'unit': 'ml', 'ingredient': 'beef broth'}],\n",
              " 'fitness': 9}"
            ]
          },
          "execution_count": 12,
          "metadata": {},
          "output_type": "execute_result"
        }
      ],
      "source": [
        "def select_recipe(recipes):\n",
        "  sum_fitness = sum([recipe['fitness'] for recipe in recipes])\n",
        "  # print(\"fitness_sum\", sum_fitness)\n",
        "  f = random.randint(0, sum_fitness)\n",
        "  for recipe in recipes:\n",
        "    if f < recipe['fitness']:\n",
        "      # print(\"f\", f)\n",
        "      # print(recipe['fitness'])\n",
        "      return recipe\n",
        "    # print(\"f_before\", f)\n",
        "    # print(\"fitness\", recipe['fitness'])\n",
        "    f -= recipe['fitness']\n",
        "    # print(\"f_after\", f)\n",
        "  return recipes[-1]\n",
        "\n",
        "select_recipe(population)"
      ]
    },
    {
      "cell_type": "markdown",
      "metadata": {
        "id": "v16okoEga4HG"
      },
      "source": [
        "## Genetic Operators\n",
        "\n",
        "The following functions implement the genetic operators of crossover and mutation. Crossover takes two recipes and combines them by choosing a point on each genotype (recipe) to split each list into two, and joining the first sublist from one genotype with the second sublist of the second genotype."
      ]
    },
    {
      "cell_type": "code",
      "execution_count": 13,
      "metadata": {
        "id": "pF71t029XdOQ"
      },
      "outputs": [],
      "source": [
        "recipe_number = 1\n",
        "\n",
        "def crossover_recipes(r1, r2):\n",
        "  global recipe_number\n",
        "  p1 = random.randint(1, len(r1['ingredients'])-1)\n",
        "  p2 = random.randint(1, len(r2['ingredients'])-1)\n",
        "  r1a = r1['ingredients'][0:p1]\n",
        "  r2b = r2['ingredients'][p2:-1]\n",
        "  r = dict()\n",
        "  r['name'] = \"recipe {}\".format(recipe_number)\n",
        "  recipe_number += 1\n",
        "  r['ingredients'] = r1a + r2b\n",
        "  return r"
      ]
    },
    {
      "cell_type": "markdown",
      "metadata": {
        "id": "4lXYJJphbUtz"
      },
      "source": [
        "The mutation operator changes a recipe using one of four different types of mutations: (1) changing the amount of an ingredient, (2) changing the type of an ingredient, (3) adding an ingredient, and (4) removing an ingredient."
      ]
    },
    {
      "cell_type": "code",
      "execution_count": 14,
      "metadata": {
        "id": "uNMDIR8dXiDD"
      },
      "outputs": [],
      "source": [
        "def mutate_recipe(r):\n",
        "  m = random.randint(0, 3)\n",
        "  if m == 0:\n",
        "    i = random.randint(0, len(r['ingredients'])-1)\n",
        "    r['ingredients'][i] = r['ingredients'][i].copy()\n",
        "    r['ingredients'][i]['amount'] += math.floor(r['ingredients'][i]['amount'] * 0.1)\n",
        "    r['ingredients'][i]['amount'] = max(1, r['ingredients'][i]['amount'])\n",
        "  elif m == 1:\n",
        "    j = random.randint(0, len(r['ingredients'])-1)\n",
        "    r['ingredients'][j] = r['ingredients'][j].copy()\n",
        "    r['ingredients'][j]['ingredient'] = random.choice(all_ingredients)['ingredient']\n",
        "  elif m == 2:\n",
        "    r['ingredients'].append(random.choice(all_ingredients).copy())\n",
        "  else:\n",
        "    if len(r['ingredients']) > 1:\n",
        "      r['ingredients'].remove(random.choice(r['ingredients']))"
      ]
    },
    {
      "cell_type": "markdown",
      "metadata": {
        "id": "o342LNx9bzhq"
      },
      "source": [
        "The following function is domain-specific and normalises a generated recipe by removing duplicate ingredients (combining the amounts of all instances of an ingredient) and rescaling the volume of ingredients listed to 1 litre (1000 units)."
      ]
    },
    {
      "cell_type": "code",
      "execution_count": 15,
      "metadata": {
        "id": "gOlZSTZ5R4Fb"
      },
      "outputs": [],
      "source": [
        "def normalise_recipe(r):\n",
        "  unique_ingredients = dict()\n",
        "  for i in r['ingredients']:\n",
        "    if i['ingredient'] in unique_ingredients:\n",
        "      n = unique_ingredients[i['ingredient']]\n",
        "      n['amount'] += i['amount']\n",
        "    else:\n",
        "      unique_ingredients[i['ingredient']] = i.copy()\n",
        "  r['ingredients'] = list(unique_ingredients.values())\n",
        "\n",
        "  sum_amounts = sum([i['amount'] for i in r['ingredients']])\n",
        "  scale = 1000 / sum_amounts\n",
        "  for i in r['ingredients']:\n",
        "    i['amount'] = max(1, math.floor(i['amount'] * scale))"
      ]
    },
    {
      "cell_type": "markdown",
      "metadata": {
        "id": "6uKR2dtHccN0"
      },
      "source": [
        "## Generating Recipes\n",
        "\n",
        "We use the above functions to generate recipes."
      ]
    },
    {
      "cell_type": "code",
      "execution_count": 16,
      "metadata": {
        "id": "0OnxaOpTXU07"
      },
      "outputs": [],
      "source": [
        "def generate_recipes(size, population):\n",
        "  R = []\n",
        "  while len(R) < size:\n",
        "    r1 = select_recipe(population)\n",
        "    r2 = select_recipe(population)\n",
        "    r = crossover_recipes(r1, r2)\n",
        "    mutate_recipe(r)\n",
        "    normalise_recipe(r)\n",
        "    R.append(r)\n",
        "  evaluate_recipes(R)\n",
        "  return R"
      ]
    },
    {
      "cell_type": "markdown",
      "metadata": {
        "id": "QgSi4_dYcnTZ"
      },
      "source": [
        "## Selecting a New Population\n",
        "\n",
        "The final function that we need to implement is one that selects a new population given the previous population and the generated recipes."
      ]
    },
    {
      "cell_type": "code",
      "execution_count": 17,
      "metadata": {
        "id": "I04KiYTTiM5f"
      },
      "outputs": [],
      "source": [
        "def select_population(P, R):\n",
        "  R = sorted(R, reverse = True, key = lambda r: r['fitness'])\n",
        "  P = P[0:len(P)//2] + R[0:len(R)//2]\n",
        "  P = sorted(P, reverse = True, key = lambda r: r['fitness'])\n",
        "  return P"
      ]
    },
    {
      "cell_type": "markdown",
      "metadata": {
        "id": "-q6K1dVwdmxt"
      },
      "source": [
        "## Putting it All Together...\n",
        "\n",
        "To run the genetic algorithm, we repeat here the code to set up and evaluated an initial population, before running the evolutionary process for a number of steps."
      ]
    },
    {
      "cell_type": "code",
      "execution_count": 25,
      "metadata": {
        "id": "EmpTprBUX-UH"
      },
      "outputs": [],
      "source": [
        "population = random.choices(recipes, k=population_size)\n",
        "evaluate_recipes(population)\n",
        "population = sorted(population, reverse = True, key = lambda r: r['fitness'])\n",
        "\n",
        "max_fitnesses = []\n",
        "min_fitnesses = []\n",
        "for i in range(1000):\n",
        "  R = generate_recipes(population_size, population)\n",
        "  population = select_population(population, R)\n",
        "  max_fitnesses.append(population[0]['fitness'])\n",
        "  min_fitnesses.append(population[-1]['fitness'])"
      ]
    },
    {
      "cell_type": "markdown",
      "metadata": {
        "id": "QO-xVl-9d5TS"
      },
      "source": [
        "We can check on the progress of the evolution by plotting the fitness history we captured above. Here we plot both the maximum fitness each population and the range fitnesses (filling between max fitness and min fitness)."
      ]
    },
    {
      "cell_type": "code",
      "execution_count": 26,
      "metadata": {
        "colab": {
          "base_uri": "https://localhost:8080/",
          "height": 295
        },
        "id": "6BOllLG0dB3W",
        "outputId": "0cbe57b2-23c4-4884-bb16-59126900182a"
      },
      "outputs": [
        {
          "data": {
            "image/png": "[encoded data removed]",
            "text/plain": [
              "<Figure size 640x480 with 1 Axes>"
            ]
          },
          "metadata": {},
          "output_type": "display_data"
        }
      ],
      "source": [
        "import matplotlib.pyplot as plt\n",
        "\n",
        "x  = range(1000)\n",
        "plt.plot(x, max_fitnesses, label=\"line L\")\n",
        "plt.fill_between(x, min_fitnesses, max_fitnesses, alpha=0.2)\n",
        "plt.plot()\n",
        "\n",
        "plt.xlabel(\"generation\")\n",
        "plt.ylabel(\"fitness\")\n",
        "plt.title(\"fitness over time\")\n",
        "plt.legend()\n",
        "plt.show()"
      ]
    },
    {
      "cell_type": "markdown",
      "metadata": {
        "id": "sPm8Ps0ceT2B"
      },
      "source": [
        "Finally, because the recipe is always sorted according to fitness, the fittest individual will be the one in the first position, so we can print this out."
      ]
    },
    {
      "cell_type": "code",
      "execution_count": 32,
      "metadata": {
        "colab": {
          "base_uri": "https://localhost:8080/"
        },
        "id": "X7Bp5qVSeGET",
        "outputId": "b961871e-492c-4977-be3c-83e175505508"
      },
      "outputs": [
        {
          "name": "stdout",
          "output_type": "stream",
          "text": [
            "{ 'fitness': 46,\n",
            "  'ingredients': [ {'amount': 1, 'ingredient': 'butternut squash', 'unit': 'g'},\n",
            "                   {'amount': 1, 'ingredient': 'bacon', 'unit': 'g'},\n",
            "                   {'amount': 1, 'ingredient': 'carrot', 'unit': 'g'},\n",
            "                   {'amount': 1, 'ingredient': 'tomato', 'unit': 'g'},\n",
            "                   {'amount': 1, 'ingredient': 'thyme', 'unit': 'g'},\n",
            "                   {'amount': 1, 'ingredient': 'plain flour', 'unit': 'g'},\n",
            "                   {'amount': 9, 'ingredient': 'chicken broth', 'unit': 'ml'},\n",
            "                   {'amount': 1, 'ingredient': 'sweetcorn', 'unit': 'g'},\n",
            "                   {'amount': 1, 'ingredient': 'ground ginger', 'unit': 'g'},\n",
            "                   {'amount': 8, 'ingredient': 'celery', 'unit': 'g'},\n",
            "                   {'amount': 1, 'ingredient': 'chilli powder', 'unit': 'g'},\n",
            "                   {'amount': 1, 'ingredient': 'parsley', 'unit': 'g'},\n",
            "                   { 'amount': 1,\n",
            "                     'ingredient': 'dry onion soup mix',\n",
            "                     'unit': 'g'},\n",
            "                   {'amount': 1, 'ingredient': 'salt', 'unit': 'g'},\n",
            "                   {'amount': 1, 'ingredient': 'sage', 'unit': 'g'},\n",
            "                   {'amount': 1, 'ingredient': 'tomato juice', 'unit': 'g'},\n",
            "                   {'amount': 1, 'ingredient': 'apple', 'unit': 'g'},\n",
            "                   {'amount': 1, 'ingredient': 'chili flakes', 'unit': 'g'},\n",
            "                   {'amount': 1, 'ingredient': 'onion powder', 'unit': 'g'},\n",
            "                   {'amount': 767, 'ingredient': 'chicken', 'unit': 'g'},\n",
            "                   {'amount': 1, 'ingredient': 'flour', 'unit': 'g'},\n",
            "                   {'amount': 1, 'ingredient': 'egg noodle', 'unit': 'g'},\n",
            "                   {'amount': 1, 'ingredient': 'milk', 'unit': 'g'},\n",
            "                   {'amount': 1, 'ingredient': 'cheese', 'unit': 'g'},\n",
            "                   {'amount': 1, 'ingredient': 'oregano', 'unit': 'g'},\n",
            "                   {'amount': 1, 'ingredient': 'butter', 'unit': 'g'},\n",
            "                   {'amount': 1, 'ingredient': 'chicken breast', 'unit': 'g'},\n",
            "                   {'amount': 1, 'ingredient': 'split peas', 'unit': 'g'},\n",
            "                   {'amount': 1, 'ingredient': 'garlic', 'unit': 'g'},\n",
            "                   {'amount': 39, 'ingredient': 'onion', 'unit': 'g'},\n",
            "                   {'amount': 1, 'ingredient': 'vegetable broth', 'unit': 'g'},\n",
            "                   {'amount': 1, 'ingredient': 'basil', 'unit': 'g'},\n",
            "                   {'amount': 78, 'ingredient': 'water', 'unit': 'g'},\n",
            "                   {'amount': 1, 'ingredient': 'cabbage', 'unit': 'g'},\n",
            "                   {'amount': 1, 'ingredient': 'beef broth', 'unit': 'g'},\n",
            "                   {'amount': 1, 'ingredient': 'minced beef', 'unit': 'g'},\n",
            "                   {'amount': 28, 'ingredient': 'cayenne', 'unit': 'ml'},\n",
            "                   {'amount': 5, 'ingredient': 'red kidney beans', 'unit': 'g'},\n",
            "                   {'amount': 1, 'ingredient': 'black pepper', 'unit': 'g'},\n",
            "                   {'amount': 1, 'ingredient': 'green bean', 'unit': 'g'},\n",
            "                   {'amount': 1, 'ingredient': 'double cream', 'unit': 'g'},\n",
            "                   {'amount': 1, 'ingredient': 'curry powder', 'unit': 'g'},\n",
            "                   {'amount': 1, 'ingredient': 'rice', 'unit': 'g'},\n",
            "                   {'amount': 1, 'ingredient': 'baby potatoes', 'unit': 'g'},\n",
            "                   {'amount': 28, 'ingredient': 'chives', 'unit': 'g'},\n",
            "                   {'amount': 1, 'ingredient': 'pepper', 'unit': 'g'}],\n",
            "  'name': 'recipe 99966'}\n"
          ]
        }
      ],
      "source": [
        "pprint.PrettyPrinter(indent=2, depth=3).pprint(population[0])"
      ]
    },
    {
      "cell_type": "code",
      "execution_count": null,
      "metadata": {},
      "outputs": [],
      "source": []
    }
  ],
  "metadata": {
    "colab": {
      "provenance": [],
      "toc_visible": true
    },
    "kernelspec": {
      "display_name": "CompCreativity",
      "language": "python",
      "name": "python3"
    },
    "language_info": {
      "codemirror_mode": {
        "name": "ipython",
        "version": 3
      },
      "file_extension": ".py",
      "mimetype": "text/x-python",
      "name": "python",
      "nbconvert_exporter": "python",
      "pygments_lexer": "ipython3",
      "version": "3.13.0"
    }
  },
  "nbformat": 4,
  "nbformat_minor": 0
}
